{
 "cells": [
  {
   "cell_type": "code",
   "execution_count": 19,
   "metadata": {},
   "outputs": [],
   "source": [
    "import pandas as pd\n",
    "\n",
    "# Specify the path to your Excel file\n",
    "excel_file_path = 'gemini data tuning.xlsx'\n",
    "\n",
    "# Read the Excel file into a DataFrame\n",
    "df = pd.read_excel(excel_file_path)\n"
   ]
  },
  {
   "cell_type": "code",
   "execution_count": 20,
   "metadata": {},
   "outputs": [],
   "source": [
    "from bs4 import BeautifulSoup\n",
    "\n",
    "# Function to remove HTML tags but keep the text within them\n",
    "def clean_html_tags(text):\n",
    "    soup = BeautifulSoup(text, 'html.parser')\n",
    "    return soup.get_text()"
   ]
  },
  {
   "cell_type": "code",
   "execution_count": 21,
   "metadata": {},
   "outputs": [
    {
     "name": "stdout",
     "output_type": "stream",
     "text": [
      "56\n"
     ]
    },
    {
     "name": "stderr",
     "output_type": "stream",
     "text": [
      "C:\\Users\\jgdsh\\AppData\\Local\\Temp\\ipykernel_3112\\3901304881.py:5: MarkupResemblesLocatorWarning: The input looks more like a filename than markup. You may want to open this file and pass the filehandle into Beautiful Soup.\n",
      "  soup = BeautifulSoup(text, 'html.parser')\n"
     ]
    }
   ],
   "source": [
    "# Iterate over each row in the DataFrame\n",
    "summaries = []\n",
    "titles = []\n",
    "texts = []\n",
    "for index, row in df.iterrows():\n",
    "    text = \"\"\n",
    "    title = row['title']\n",
    "    text += title\n",
    "    if not pd.isna(row['summary']):\n",
    "        text += '''. \n",
    "'''\n",
    "        summary = clean_html_tags(row['summary'])\n",
    "        text += summary\n",
    "\n",
    "    texts.append(text)\n",
    "print(len(texts))   "
   ]
  },
  {
   "cell_type": "code",
   "execution_count": 22,
   "metadata": {},
   "outputs": [],
   "source": [
    "df.insert(len(df.columns), 'summary1', texts)"
   ]
  },
  {
   "cell_type": "code",
   "execution_count": 23,
   "metadata": {},
   "outputs": [
    {
     "data": {
      "text/html": [
       "<div>\n",
       "<style scoped>\n",
       "    .dataframe tbody tr th:only-of-type {\n",
       "        vertical-align: middle;\n",
       "    }\n",
       "\n",
       "    .dataframe tbody tr th {\n",
       "        vertical-align: top;\n",
       "    }\n",
       "\n",
       "    .dataframe thead th {\n",
       "        text-align: right;\n",
       "    }\n",
       "</style>\n",
       "<table border=\"1\" class=\"dataframe\">\n",
       "  <thead>\n",
       "    <tr style=\"text-align: right;\">\n",
       "      <th></th>\n",
       "      <th>title</th>\n",
       "      <th>summary</th>\n",
       "      <th>classifications</th>\n",
       "      <th>briefWHYs</th>\n",
       "      <th>TJH Comments</th>\n",
       "      <th>summary1</th>\n",
       "    </tr>\n",
       "  </thead>\n",
       "  <tbody>\n",
       "    <tr>\n",
       "      <th>0</th>\n",
       "      <td>SEC Charges Lordstown Motors with Misleading I...</td>\n",
       "      <td>The Securities and Exchange Commission today c...</td>\n",
       "      <td>True</td>\n",
       "      <td>SEC charges, misleading investors.</td>\n",
       "      <td>NaN</td>\n",
       "      <td>SEC Charges Lordstown Motors with Misleading I...</td>\n",
       "    </tr>\n",
       "    <tr>\n",
       "      <th>1</th>\n",
       "      <td>SEC Investor Advisory Committee to Discuss Pro...</td>\n",
       "      <td>The Securities and Exchange Commission’s Inves...</td>\n",
       "      <td>True</td>\n",
       "      <td>SEC meeting on equity market structure.</td>\n",
       "      <td>NaN</td>\n",
       "      <td>SEC Investor Advisory Committee to Discuss Pro...</td>\n",
       "    </tr>\n",
       "    <tr>\n",
       "      <th>2</th>\n",
       "      <td>Federal Court Orders Unregistered Pool Operato...</td>\n",
       "      <td>NaN</td>\n",
       "      <td>True</td>\n",
       "      <td>Forex fraud, court order.</td>\n",
       "      <td>These all look fine as to the brief whys, but ...</td>\n",
       "      <td>Federal Court Orders Unregistered Pool Operato...</td>\n",
       "    </tr>\n",
       "    <tr>\n",
       "      <th>3</th>\n",
       "      <td>Federal Court Orders California-Based Precious...</td>\n",
       "      <td>NaN</td>\n",
       "      <td>True</td>\n",
       "      <td>Precious metals fraud.</td>\n",
       "      <td>These all look fine as to the brief whys, but ...</td>\n",
       "      <td>Federal Court Orders California-Based Precious...</td>\n",
       "    </tr>\n",
       "    <tr>\n",
       "      <th>4</th>\n",
       "      <td>CFTC Approves Final Rules on Swap Confirmation...</td>\n",
       "      <td>NaN</td>\n",
       "      <td>False</td>\n",
       "      <td>CFTC rules on SEF swaps.</td>\n",
       "      <td>These all look fine as to the brief whys, but ...</td>\n",
       "      <td>CFTC Approves Final Rules on Swap Confirmation...</td>\n",
       "    </tr>\n",
       "  </tbody>\n",
       "</table>\n",
       "</div>"
      ],
      "text/plain": [
       "                                               title  \\\n",
       "0  SEC Charges Lordstown Motors with Misleading I...   \n",
       "1  SEC Investor Advisory Committee to Discuss Pro...   \n",
       "2  Federal Court Orders Unregistered Pool Operato...   \n",
       "3  Federal Court Orders California-Based Precious...   \n",
       "4  CFTC Approves Final Rules on Swap Confirmation...   \n",
       "\n",
       "                                             summary  classifications  \\\n",
       "0  The Securities and Exchange Commission today c...             True   \n",
       "1  The Securities and Exchange Commission’s Inves...             True   \n",
       "2                                                NaN             True   \n",
       "3                                                NaN             True   \n",
       "4                                                NaN            False   \n",
       "\n",
       "                                 briefWHYs  \\\n",
       "0       SEC charges, misleading investors.   \n",
       "1  SEC meeting on equity market structure.   \n",
       "2                Forex fraud, court order.   \n",
       "3                   Precious metals fraud.   \n",
       "4                 CFTC rules on SEF swaps.   \n",
       "\n",
       "                                        TJH Comments  \\\n",
       "0                                                NaN   \n",
       "1                                                NaN   \n",
       "2  These all look fine as to the brief whys, but ...   \n",
       "3  These all look fine as to the brief whys, but ...   \n",
       "4  These all look fine as to the brief whys, but ...   \n",
       "\n",
       "                                            summary1  \n",
       "0  SEC Charges Lordstown Motors with Misleading I...  \n",
       "1  SEC Investor Advisory Committee to Discuss Pro...  \n",
       "2  Federal Court Orders Unregistered Pool Operato...  \n",
       "3  Federal Court Orders California-Based Precious...  \n",
       "4  CFTC Approves Final Rules on Swap Confirmation...  "
      ]
     },
     "execution_count": 23,
     "metadata": {},
     "output_type": "execute_result"
    }
   ],
   "source": [
    "df.head()"
   ]
  },
  {
   "cell_type": "code",
   "execution_count": 24,
   "metadata": {},
   "outputs": [],
   "source": [
    "excel_file = 'summary1.xlsx'\n",
    "df.to_excel(excel_file, index=False)"
   ]
  },
  {
   "cell_type": "code",
   "execution_count": null,
   "metadata": {},
   "outputs": [],
   "source": []
  },
  {
   "cell_type": "code",
   "execution_count": null,
   "metadata": {},
   "outputs": [],
   "source": []
  }
 ],
 "metadata": {
  "kernelspec": {
   "display_name": "Python 3",
   "language": "python",
   "name": "python3"
  },
  "language_info": {
   "codemirror_mode": {
    "name": "ipython",
    "version": 3
   },
   "file_extension": ".py",
   "mimetype": "text/x-python",
   "name": "python",
   "nbconvert_exporter": "python",
   "pygments_lexer": "ipython3",
   "version": "3.10.4"
  }
 },
 "nbformat": 4,
 "nbformat_minor": 2
}
