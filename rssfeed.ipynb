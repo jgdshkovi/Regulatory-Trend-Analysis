{
 "cells": [
  {
   "cell_type": "code",
   "execution_count": 2,
   "metadata": {},
   "outputs": [],
   "source": [
    "import feedparser\n",
    "import pandas as pd\n"
   ]
  },
  {
   "cell_type": "code",
   "execution_count": 3,
   "metadata": {},
   "outputs": [],
   "source": [
    "def parse_rss_feeds(feed_links):\n",
    "    feed_data = []\n",
    "    for link in feed_links:\n",
    "        feed = feedparser.parse(link)\n",
    "        for entry in feed.entries:\n",
    "            feed_data.append({\n",
    "                'feed_link': link,\n",
    "                'title': entry.get('title', ''),\n",
    "                'published': entry.get('published', ''),\n",
    "                'summary': entry.get('summary', ''),\n",
    "                'link': entry.get('link', '')\n",
    "            })\n",
    "    return feed_data\n"
   ]
  },
  {
   "cell_type": "code",
   "execution_count": 8,
   "metadata": {},
   "outputs": [
    {
     "name": "stdout",
     "output_type": "stream",
     "text": [
      "                              feed_link  \\\n",
      "0  https://www.justice.gov/news/rss?m=1   \n",
      "1  https://www.justice.gov/news/rss?m=1   \n",
      "2  https://www.justice.gov/news/rss?m=1   \n",
      "3  https://www.justice.gov/news/rss?m=1   \n",
      "4  https://www.justice.gov/news/rss?m=1   \n",
      "\n",
      "                                               title  \\\n",
      "0  Justice Department Secures Agreement with Clim...   \n",
      "1  Justice Department Secures Agreement with Cobb...   \n",
      "2  Seven Members and Associates of Large-Scale Ga...   \n",
      "3  Former Memphis Police Officer Charged with Fed...   \n",
      "4  Justice Department Secures Relief from Hyundai...   \n",
      "\n",
      "                         published  \\\n",
      "0  Thu, 09 May 2024 12:00:00 +0000   \n",
      "1  Thu, 09 May 2024 12:00:00 +0000   \n",
      "2  Wed, 08 May 2024 12:00:00 +0000   \n",
      "3  Wed, 08 May 2024 12:00:00 +0000   \n",
      "4  Wed, 08 May 2024 12:00:00 +0000   \n",
      "\n",
      "                                             summary  \\\n",
      "0  The Justice Department announced today that it...   \n",
      "1  The Justice Department has secured an <a href=...   \n",
      "2  An indictment was unsealed today in the Easter...   \n",
      "3  A federal grand jury in Memphis, Tennessee, re...   \n",
      "4  The Justice Department announced today that Hy...   \n",
      "\n",
      "                                                link  \n",
      "0  https://www.justice.gov/opa/pr/justice-departm...  \n",
      "1  https://www.justice.gov/opa/pr/justice-departm...  \n",
      "2  https://www.justice.gov/opa/pr/seven-members-a...  \n",
      "3  https://www.justice.gov/opa/pr/former-memphis-...  \n",
      "4  https://www.justice.gov/opa/pr/justice-departm...  \n"
     ]
    }
   ],
   "source": [
    "rss_feed_links = [\n",
    "    'https://www.justice.gov/news/rss?m=1',\n",
    "    'https://www.sec.gov/news/pressreleases.rss',\n",
    "    'https://www.cftc.gov/RSS/RSSENF/rssenf.xml',\n",
    "    'https://www.ftc.gov/feeds/press-release.xml',\n",
    "    'http://feeds.finra.org/FINRANotices',\n",
    "    'https://www.cftc.gov/RSS/RSSGP/rssgp.xml',\n",
    "    'https://www.justice.gov/news/rss?type=press_release&groupname=441&field_component=1981&search_api_language=en&require_all=1',\n",
    "    'https://www.justice.gov/news/rss?type=press_release&groupname=236&field_component=1751&search_api_language=en&require_all=1',\n",
    "    'https://www.justice.gov/news/rss?type=press_release&groupname=431&field_component=1971&search_api_language=en&require_all=1',\n",
    "    'https://www.justice.gov/news/rss?type=press_release&groupname=291&field_component=1821&search_api_language=en&require_all=1',\n",
    "    'https://www.justice.gov/news/rss?type=press_release&groupname=201&field_component=1721&search_api_language=en&require_all=1',\n",
    "    'https://www.law360.com/whitecollar/rss',\n",
    "    'https://www.whitecollarbriefly.com/feed/',\n",
    "    'https://wp.nyu.edu/compliance_enforcement/feed/',\n",
    "    'https://www.justice.gov/news/rss?end_date=05/08/2024&search_api_fulltext=&sort_by=field_date&start_date=05/01/2024&type=press_release&groupname=291&field_component=1821&search_api_language=en&require_all=0'\n",
    "    # '',\n",
    "    # Add more feed links as needed\n",
    "]\n",
    "\n",
    "# Parse RSS feeds\n",
    "feed_data = parse_rss_feeds(rss_feed_links)\n",
    "\n",
    "# Convert data to DataFrame\n",
    "df = pd.DataFrame(feed_data)\n",
    "\n",
    "# Display DataFrame\n",
    "print(df.head(5))"
   ]
  },
  {
   "cell_type": "code",
   "execution_count": 9,
   "metadata": {},
   "outputs": [],
   "source": [
    "excel_file = 'rss_feeds.xlsx'\n",
    "df.to_excel(excel_file, index=False)"
   ]
  },
  {
   "cell_type": "code",
   "execution_count": null,
   "metadata": {},
   "outputs": [],
   "source": []
  }
 ],
 "metadata": {
  "kernelspec": {
   "display_name": "Python 3",
   "language": "python",
   "name": "python3"
  },
  "language_info": {
   "codemirror_mode": {
    "name": "ipython",
    "version": 3
   },
   "file_extension": ".py",
   "mimetype": "text/x-python",
   "name": "python",
   "nbconvert_exporter": "python",
   "pygments_lexer": "ipython3",
   "version": "3.10.4"
  }
 },
 "nbformat": 4,
 "nbformat_minor": 2
}
