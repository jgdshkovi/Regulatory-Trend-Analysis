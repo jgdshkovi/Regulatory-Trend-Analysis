{
 "cells": [
  {
   "cell_type": "code",
   "execution_count": 8,
   "metadata": {},
   "outputs": [],
   "source": [
    "import feedparser\n",
    "import pandas as pd\n"
   ]
  },
  {
   "cell_type": "code",
   "execution_count": 9,
   "metadata": {},
   "outputs": [],
   "source": [
    "def parse_rss_feeds(feed_links):\n",
    "    feed_data = []\n",
    "    for link in feed_links:\n",
    "        feed = feedparser.parse(link)\n",
    "        for entry in feed.entries:\n",
    "            feed_data.append({\n",
    "                'feed_link': link,\n",
    "                'title': entry.get('title', ''),\n",
    "                'published': entry.get('published', ''),\n",
    "                'summary': entry.get('summary', ''),\n",
    "                'link': entry.get('link', '')\n",
    "            })\n",
    "    return feed_data\n"
   ]
  },
  {
   "cell_type": "code",
   "execution_count": 10,
   "metadata": {},
   "outputs": [
    {
     "name": "stdout",
     "output_type": "stream",
     "text": [
      "                              feed_link  \\\n",
      "0  https://www.justice.gov/news/rss?m=1   \n",
      "1  https://www.justice.gov/news/rss?m=1   \n",
      "2  https://www.justice.gov/news/rss?m=1   \n",
      "3  https://www.justice.gov/news/rss?m=1   \n",
      "4  https://www.justice.gov/news/rss?m=1   \n",
      "\n",
      "                                               title  \\\n",
      "0    Doctor Convicted of $6.3M Medicare Fraud Scheme   \n",
      "1  CEO Convicted for $28M Long-Running Investment...   \n",
      "2  Mexico Extradites Cartel’s Precursor Chemical ...   \n",
      "3  Disruptive Technology Strike Force Year One co...   \n",
      "4  Dentist Sentenced for Unlawfully Distributing ...   \n",
      "\n",
      "                         published  \\\n",
      "0  Fri, 10 May 2024 12:00:00 +0000   \n",
      "1  Fri, 10 May 2024 12:00:00 +0000   \n",
      "2  Fri, 10 May 2024 12:00:00 +0000   \n",
      "3  Fri, 10 May 2024 12:00:00 +0000   \n",
      "4  Fri, 10 May 2024 12:00:00 +0000   \n",
      "\n",
      "                                             summary  \\\n",
      "0  A federal jury convicted a Michigan doctor tod...   \n",
      "1  A federal jury convicted a Hawaii man yesterda...   \n",
      "2  A Mexican national who allegedly supplied the ...   \n",
      "3                                                      \n",
      "4  A Kentucky dentist was sentenced today to 20 y...   \n",
      "\n",
      "                                                link  \n",
      "0  https://www.justice.gov/opa/pr/doctor-convicte...  \n",
      "1  https://www.justice.gov/opa/pr/ceo-convicted-2...  \n",
      "2  https://www.justice.gov/opa/pr/mexico-extradit...  \n",
      "3  https://www.justice.gov/opa/video/disruptive-t...  \n",
      "4  https://www.justice.gov/opa/pr/dentist-sentenc...  \n"
     ]
    }
   ],
   "source": [
    "rss_feed_links = [\n",
    "    'https://www.justice.gov/news/rss?m=1',\n",
    "    'https://www.sec.gov/news/pressreleases.rss',\n",
    "    'https://www.cftc.gov/RSS/RSSENF/rssenf.xml',\n",
    "    'https://www.ftc.gov/feeds/press-release.xml',\n",
    "    'http://feeds.finra.org/FINRANotices',\n",
    "    'https://www.cftc.gov/RSS/RSSGP/rssgp.xml',\n",
    "    'https://www.justice.gov/news/rss?type=press_release&groupname=441&field_component=1981&search_api_language=en&require_all=1',\n",
    "    'https://www.justice.gov/news/rss?type=press_release&groupname=236&field_component=1751&search_api_language=en&require_all=1',\n",
    "    'https://www.justice.gov/news/rss?type=press_release&groupname=431&field_component=1971&search_api_language=en&require_all=1',\n",
    "    'https://www.justice.gov/news/rss?type=press_release&groupname=291&field_component=1821&search_api_language=en&require_all=1',\n",
    "    'https://www.justice.gov/news/rss?type=press_release&groupname=201&field_component=1721&search_api_language=en&require_all=1',\n",
    "    'https://www.law360.com/whitecollar/rss',\n",
    "    'https://www.whitecollarbriefly.com/feed/',\n",
    "    'https://wp.nyu.edu/compliance_enforcement/feed/',\n",
    "    'https://www.justice.gov/news/rss?end_date=05/08/2024&search_api_fulltext=&sort_by=field_date&start_date=05/01/2024&type=press_release&groupname=291&field_component=1821&search_api_language=en&require_all=0'\n",
    "    # '',\n",
    "    # Add more feed links as needed\n",
    "]\n",
    "\n",
    "# Parse RSS feeds\n",
    "feed_data = parse_rss_feeds(rss_feed_links)\n",
    "\n",
    "# Convert data to DataFrame\n",
    "df = pd.DataFrame(feed_data)\n",
    "\n",
    "# Display DataFrame\n",
    "print(df.head(5))"
   ]
  },
  {
   "cell_type": "code",
   "execution_count": 11,
   "metadata": {},
   "outputs": [],
   "source": [
    "excel_file = 'rss_feeds.xlsx'\n",
    "df.to_excel(excel_file, index=False)"
   ]
  },
  {
   "cell_type": "code",
   "execution_count": 1,
   "metadata": {},
   "outputs": [],
   "source": [
    "from doj_agg import lis"
   ]
  },
  {
   "cell_type": "code",
   "execution_count": 2,
   "metadata": {},
   "outputs": [],
   "source": [
    "lis2 = []\n",
    "for el in lis:\n",
    "    if not el in lis2:\n",
    "        lis2.append(el)"
   ]
  },
  {
   "cell_type": "code",
   "execution_count": 5,
   "metadata": {},
   "outputs": [
    {
     "data": {
      "text/plain": [
       "55"
      ]
     },
     "execution_count": 5,
     "metadata": {},
     "output_type": "execute_result"
    }
   ],
   "source": [
    "len(lis2)"
   ]
  },
  {
   "cell_type": "code",
   "execution_count": 8,
   "metadata": {},
   "outputs": [],
   "source": [
    "with open('doj_topics.txt', 'w+') as file:\n",
    "    for el in lis2:\n",
    "        file.write(el+',\\n')"
   ]
  },
  {
   "cell_type": "code",
   "execution_count": null,
   "metadata": {},
   "outputs": [],
   "source": []
  },
  {
   "cell_type": "code",
   "execution_count": null,
   "metadata": {},
   "outputs": [],
   "source": []
  },
  {
   "cell_type": "markdown",
   "metadata": {},
   "source": [
    "### from kaggle"
   ]
  },
  {
   "cell_type": "code",
   "execution_count": 1,
   "metadata": {},
   "outputs": [
    {
     "name": "stdout",
     "output_type": "stream",
     "text": [
      "Requirement already satisfied: sentence-transformers in c:\\users\\jgdsh\\appdata\\local\\programs\\python\\python310\\lib\\site-packages (2.7.0)\n",
      "Requirement already satisfied: transformers<5.0.0,>=4.34.0 in c:\\users\\jgdsh\\appdata\\local\\programs\\python\\python310\\lib\\site-packages (from sentence-transformers) (4.39.3)\n",
      "Requirement already satisfied: tqdm in c:\\users\\jgdsh\\appdata\\local\\programs\\python\\python310\\lib\\site-packages (from sentence-transformers) (4.64.1)\n",
      "Requirement already satisfied: torch>=1.11.0 in c:\\users\\jgdsh\\appdata\\local\\programs\\python\\python310\\lib\\site-packages (from sentence-transformers) (2.1.1+cu118)\n",
      "Requirement already satisfied: numpy in c:\\users\\jgdsh\\appdata\\local\\programs\\python\\python310\\lib\\site-packages (from sentence-transformers) (1.26.4)\n",
      "Requirement already satisfied: scikit-learn in c:\\users\\jgdsh\\appdata\\local\\programs\\python\\python310\\lib\\site-packages (from sentence-transformers) (1.3.0)\n",
      "Requirement already satisfied: scipy in c:\\users\\jgdsh\\appdata\\local\\programs\\python\\python310\\lib\\site-packages (from sentence-transformers) (1.11.2)\n",
      "Requirement already satisfied: huggingface-hub>=0.15.1 in c:\\users\\jgdsh\\appdata\\local\\programs\\python\\python310\\lib\\site-packages (from sentence-transformers) (0.20.3)\n",
      "Requirement already satisfied: Pillow in c:\\users\\jgdsh\\appdata\\local\\programs\\python\\python310\\lib\\site-packages (from sentence-transformers) (10.0.0)\n",
      "Requirement already satisfied: filelock in c:\\users\\jgdsh\\appdata\\local\\programs\\python\\python310\\lib\\site-packages (from huggingface-hub>=0.15.1->sentence-transformers) (3.13.1)\n",
      "Requirement already satisfied: fsspec>=2023.5.0 in c:\\users\\jgdsh\\appdata\\local\\programs\\python\\python310\\lib\\site-packages (from huggingface-hub>=0.15.1->sentence-transformers) (2023.10.0)\n",
      "Requirement already satisfied: requests in c:\\users\\jgdsh\\appdata\\local\\programs\\python\\python310\\lib\\site-packages (from huggingface-hub>=0.15.1->sentence-transformers) (2.31.0)\n",
      "Requirement already satisfied: pyyaml>=5.1 in c:\\users\\jgdsh\\appdata\\local\\programs\\python\\python310\\lib\\site-packages (from huggingface-hub>=0.15.1->sentence-transformers) (6.0.1)\n",
      "Requirement already satisfied: typing-extensions>=3.7.4.3 in c:\\users\\jgdsh\\appdata\\local\\programs\\python\\python310\\lib\\site-packages (from huggingface-hub>=0.15.1->sentence-transformers) (4.8.0)\n",
      "Requirement already satisfied: packaging>=20.9 in c:\\users\\jgdsh\\appdata\\local\\programs\\python\\python310\\lib\\site-packages (from huggingface-hub>=0.15.1->sentence-transformers) (24.0)\n",
      "Requirement already satisfied: sympy in c:\\users\\jgdsh\\appdata\\local\\programs\\python\\python310\\lib\\site-packages (from torch>=1.11.0->sentence-transformers) (1.12)\n",
      "Requirement already satisfied: networkx in c:\\users\\jgdsh\\appdata\\local\\programs\\python\\python310\\lib\\site-packages (from torch>=1.11.0->sentence-transformers) (3.2.1)\n",
      "Requirement already satisfied: jinja2 in c:\\users\\jgdsh\\appdata\\local\\programs\\python\\python310\\lib\\site-packages (from torch>=1.11.0->sentence-transformers) (3.1.3)\n",
      "Requirement already satisfied: colorama in c:\\users\\jgdsh\\appdata\\local\\programs\\python\\python310\\lib\\site-packages (from tqdm->sentence-transformers) (0.4.6)\n",
      "Requirement already satisfied: regex!=2019.12.17 in c:\\users\\jgdsh\\appdata\\local\\programs\\python\\python310\\lib\\site-packages (from transformers<5.0.0,>=4.34.0->sentence-transformers) (2023.12.25)\n",
      "Requirement already satisfied: tokenizers<0.19,>=0.14 in c:\\users\\jgdsh\\appdata\\local\\programs\\python\\python310\\lib\\site-packages (from transformers<5.0.0,>=4.34.0->sentence-transformers) (0.15.2)\n",
      "Requirement already satisfied: safetensors>=0.4.1 in c:\\users\\jgdsh\\appdata\\local\\programs\\python\\python310\\lib\\site-packages (from transformers<5.0.0,>=4.34.0->sentence-transformers) (0.4.2)\n",
      "Requirement already satisfied: joblib>=1.1.1 in c:\\users\\jgdsh\\appdata\\local\\programs\\python\\python310\\lib\\site-packages (from scikit-learn->sentence-transformers) (1.3.2)\n",
      "Requirement already satisfied: threadpoolctl>=2.0.0 in c:\\users\\jgdsh\\appdata\\local\\programs\\python\\python310\\lib\\site-packages (from scikit-learn->sentence-transformers) (3.2.0)\n",
      "Requirement already satisfied: MarkupSafe>=2.0 in c:\\users\\jgdsh\\appdata\\local\\programs\\python\\python310\\lib\\site-packages (from jinja2->torch>=1.11.0->sentence-transformers) (2.1.3)\n",
      "Requirement already satisfied: charset-normalizer<4,>=2 in c:\\users\\jgdsh\\appdata\\local\\programs\\python\\python310\\lib\\site-packages (from requests->huggingface-hub>=0.15.1->sentence-transformers) (3.3.2)\n",
      "Requirement already satisfied: idna<4,>=2.5 in c:\\users\\jgdsh\\appdata\\local\\programs\\python\\python310\\lib\\site-packages (from requests->huggingface-hub>=0.15.1->sentence-transformers) (3.7)\n",
      "Requirement already satisfied: urllib3<3,>=1.21.1 in c:\\users\\jgdsh\\appdata\\local\\programs\\python\\python310\\lib\\site-packages (from requests->huggingface-hub>=0.15.1->sentence-transformers) (2.2.1)\n",
      "Requirement already satisfied: certifi>=2017.4.17 in c:\\users\\jgdsh\\appdata\\local\\programs\\python\\python310\\lib\\site-packages (from requests->huggingface-hub>=0.15.1->sentence-transformers) (2024.2.2)\n",
      "Requirement already satisfied: mpmath>=0.19 in c:\\users\\jgdsh\\appdata\\local\\programs\\python\\python310\\lib\\site-packages (from sympy->torch>=1.11.0->sentence-transformers) (1.3.0)\n"
     ]
    }
   ],
   "source": [
    "!pip install sentence-transformers"
   ]
  },
  {
   "cell_type": "code",
   "execution_count": 4,
   "metadata": {},
   "outputs": [],
   "source": [
    "from sentence_transformers import SentenceTransformer\n",
    "model = SentenceTransformer('all-MiniLM-L6-v2', device='cuda')\n",
    "sentence_embeddings = model.encode('This is an example')"
   ]
  },
  {
   "cell_type": "code",
   "execution_count": 5,
   "metadata": {},
   "outputs": [],
   "source": [
    "sentences = [\n",
    "    \"This framework generates embeddings for each input sentence\",\n",
    "    \"Sentences are passed as a list of strings.\",\n",
    "    \"The quick brown fox jumps over the lazy dog.\",\n",
    "]\n",
    "\n",
    "# Sentences are encoded by calling model.encode()\n",
    "embeddings = model.encode(sentences)\n",
    "\n"
   ]
  },
  {
   "cell_type": "code",
   "execution_count": 7,
   "metadata": {},
   "outputs": [
    {
     "name": "stdout",
     "output_type": "stream",
     "text": [
      "Sentence: This framework generates embeddings for each input sentence\n",
      "Embedding: 384\n",
      "\n",
      "Sentence: Sentences are passed as a list of strings.\n",
      "Embedding: 384\n",
      "\n",
      "Sentence: The quick brown fox jumps over the lazy dog.\n",
      "Embedding: 384\n",
      "\n"
     ]
    }
   ],
   "source": [
    "# Print the embeddings\n",
    "for sentence, embedding in zip(sentences, embeddings):\n",
    "    print(\"Sentence:\", sentence)\n",
    "    print(\"Embedding:\", len(embedding))\n",
    "    print(\"\")"
   ]
  },
  {
   "cell_type": "code",
   "execution_count": null,
   "metadata": {},
   "outputs": [],
   "source": []
  }
 ],
 "metadata": {
  "kernelspec": {
   "display_name": "Python 3",
   "language": "python",
   "name": "python3"
  },
  "language_info": {
   "codemirror_mode": {
    "name": "ipython",
    "version": 3
   },
   "file_extension": ".py",
   "mimetype": "text/x-python",
   "name": "python",
   "nbconvert_exporter": "python",
   "pygments_lexer": "ipython3",
   "version": "3.10.4"
  }
 },
 "nbformat": 4,
 "nbformat_minor": 2
}
