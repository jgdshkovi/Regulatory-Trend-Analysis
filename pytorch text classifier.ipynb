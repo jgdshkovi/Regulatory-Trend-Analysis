{
 "cells": [
  {
   "cell_type": "markdown",
   "id": "f56a9ab9-7c7d-41c3-a35b-f630d0356af1",
   "metadata": {
    "jp-MarkdownHeadingCollapsed": true
   },
   "source": [
    "#### imports"
   ]
  },
  {
   "cell_type": "code",
   "execution_count": 24,
   "id": "1874e926-ffca-494f-a93b-58f6e0bdc3b4",
   "metadata": {},
   "outputs": [
    {
     "name": "stdout",
     "output_type": "stream",
     "text": [
      "PyTorch version: 2.3.0\n"
     ]
    }
   ],
   "source": [
    "import time\n",
    "\n",
    "import pandas as pd\n",
    "import numpy as np\n",
    "\n",
    "import requests\n",
    "from bs4 import BeautifulSoup\n",
    "\n",
    "import matplotlib.pyplot as plt\n",
    "\n",
    "from sklearn.feature_extraction.text import CountVectorizer\n",
    "from sklearn.model_selection import train_test_split\n",
    "\n",
    "import spacy\n",
    "from spacy_cleaner import processing, Cleaner\n",
    "\n",
    "import torch\n",
    "import torch.nn.functional as F\n",
    "from torch import nn\n",
    "from torch.utils.data import DataLoader\n",
    "from torch.utils.data.dataset import random_split\n",
    "\n",
    "import torchtext\n",
    "from torchtext.data.functional import to_map_style_dataset\n",
    "from torchtext.data.utils import get_tokenizer\n",
    "from torchtext.vocab import build_vocab_from_iterator\n",
    "\n",
    "print(f'PyTorch version: {torch.__version__}')"
   ]
  },
  {
   "cell_type": "code",
   "execution_count": 2,
   "id": "102155c9-842c-4292-937f-d4ca561095f2",
   "metadata": {},
   "outputs": [
    {
     "name": "stdout",
     "output_type": "stream",
     "text": [
      "Device set to 'mps'\n"
     ]
    }
   ],
   "source": [
    "if torch.backends.mps.is_available():\n",
    "    dtype = torch.float\n",
    "    device = 'cpu'\n",
    "    \n",
    "    if torch.backends.mps.is_available():\n",
    "        if torch.backends.mps.is_built():\n",
    "            device = torch.device('mps')      \n",
    "            print(\"Device set to 'mps'\")\n",
    "            device = 'cpu'\n",
    "        \n",
    "    elif torch.backends.cuda.is_available():\n",
    "        if torch.backends.cuda.is_built():\n",
    "            device = torch.device('cuda')\n",
    "            print(\"Device set to 'cuda'\")\n",
    "    else:\n",
    "        print (\"No gpu device found\")"
   ]
  },
  {
   "cell_type": "markdown",
   "id": "af1676cc-7761-49e8-927d-93d6e451d60e",
   "metadata": {
    "jp-MarkdownHeadingCollapsed": true
   },
   "source": [
    "#### functions"
   ]
  },
  {
   "cell_type": "code",
   "execution_count": 3,
   "id": "6427464e-83cd-4e2e-a5d1-c26f55ac5e88",
   "metadata": {},
   "outputs": [],
   "source": [
    "def clean_text(text):\n",
    "    \n",
    "    # Instaiate spacy model\n",
    "    model = spacy.load('en_core_web_sm')\n",
    "    \n",
    "    # Instaiate spacy cleaner\n",
    "    cleaner = Cleaner( \n",
    "        model,\n",
    "        processing.remove_stopword_token,\n",
    "        processing.remove_punctuation_token,\n",
    "        processing.remove_email_token,\n",
    "        processing.remove_url_token,\n",
    "        processing.mutate_lemma_token\n",
    "    )\n",
    "    \n",
    "    cleaned_text_list = []\n",
    "        \n",
    "    if isinstance(text, str):\n",
    "        text = text.lower()\n",
    "        text = [text]\n",
    "    \n",
    "    if isinstance(text, list):\n",
    "        cleaned_text = cleaner.clean(text)            \n",
    "        cleaned_text = ''.join(cleaned_text)\n",
    "        cleaned_text_list.append(cleaned_text)\n",
    "    else:\n",
    "        text = str(text)\n",
    "        cleaned_text = cleaner.clean(text)\n",
    "        cleaned_text = ''.join(cleaned_text)\n",
    "        cleaned_text_list.append(cleaned_text)\n",
    "            \n",
    "    \n",
    "    return cleaned_text"
   ]
  },
  {
   "cell_type": "markdown",
   "id": "4f820181-dc0f-4d17-8af9-41b1cf665366",
   "metadata": {
    "jp-MarkdownHeadingCollapsed": true
   },
   "source": [
    "#### dataset"
   ]
  },
  {
   "cell_type": "code",
   "execution_count": 4,
   "id": "551b5ec5-dc2c-482c-97cc-5cd2728b4fb6",
   "metadata": {},
   "outputs": [],
   "source": [
    "data = pd.read_csv('doj_data.csv')"
   ]
  },
  {
   "cell_type": "code",
   "execution_count": 5,
   "id": "af470d71-894a-4e3a-9271-f9e1dc3293f5",
   "metadata": {},
   "outputs": [
    {
     "data": {
      "text/html": [
       "<div>\n",
       "<style scoped>\n",
       "    .dataframe tbody tr th:only-of-type {\n",
       "        vertical-align: middle;\n",
       "    }\n",
       "\n",
       "    .dataframe tbody tr th {\n",
       "        vertical-align: top;\n",
       "    }\n",
       "\n",
       "    .dataframe thead th {\n",
       "        text-align: right;\n",
       "    }\n",
       "</style>\n",
       "<table border=\"1\" class=\"dataframe\">\n",
       "  <thead>\n",
       "    <tr style=\"text-align: right;\">\n",
       "      <th></th>\n",
       "      <th>article_title</th>\n",
       "      <th>article_summary</th>\n",
       "      <th>article_url</th>\n",
       "      <th>date_published</th>\n",
       "      <th>cleaned_title_summary</th>\n",
       "      <th>label</th>\n",
       "    </tr>\n",
       "  </thead>\n",
       "  <tbody>\n",
       "    <tr>\n",
       "      <th>0</th>\n",
       "      <td>The Justice Department Supports More Competiti...</td>\n",
       "      <td>The Justice Department’s Antitrust Division to...</td>\n",
       "      <td>https://www.justice.gov//opa/pr/justice-depart...</td>\n",
       "      <td>2024-04-29</td>\n",
       "      <td>justice department support competition low pri...</td>\n",
       "      <td>False</td>\n",
       "    </tr>\n",
       "    <tr>\n",
       "      <th>1</th>\n",
       "      <td>Readout of Pardon Attorney’s Outreach Efforts ...</td>\n",
       "      <td>During the month of April, which is recognized...</td>\n",
       "      <td>https://www.justice.gov//opa/pr/readout-pardon...</td>\n",
       "      <td>2024-04-29</td>\n",
       "      <td>readout pardon attorney outreach effort second...</td>\n",
       "      <td>False</td>\n",
       "    </tr>\n",
       "    <tr>\n",
       "      <th>2</th>\n",
       "      <td>Two Former Missouri Health Care Charity Execut...</td>\n",
       "      <td>Two former executives of a Springfield, Missou...</td>\n",
       "      <td>https://www.justice.gov//opa/pr/two-former-mis...</td>\n",
       "      <td>2024-04-29</td>\n",
       "      <td>missouri health care charity executive sentenc...</td>\n",
       "      <td>True</td>\n",
       "    </tr>\n",
       "  </tbody>\n",
       "</table>\n",
       "</div>"
      ],
      "text/plain": [
       "                                       article_title  \\\n",
       "0  The Justice Department Supports More Competiti...   \n",
       "1  Readout of Pardon Attorney’s Outreach Efforts ...   \n",
       "2  Two Former Missouri Health Care Charity Execut...   \n",
       "\n",
       "                                     article_summary  \\\n",
       "0  The Justice Department’s Antitrust Division to...   \n",
       "1  During the month of April, which is recognized...   \n",
       "2  Two former executives of a Springfield, Missou...   \n",
       "\n",
       "                                         article_url date_published  \\\n",
       "0  https://www.justice.gov//opa/pr/justice-depart...     2024-04-29   \n",
       "1  https://www.justice.gov//opa/pr/readout-pardon...     2024-04-29   \n",
       "2  https://www.justice.gov//opa/pr/two-former-mis...     2024-04-29   \n",
       "\n",
       "                               cleaned_title_summary  label  \n",
       "0  justice department support competition low pri...  False  \n",
       "1  readout pardon attorney outreach effort second...  False  \n",
       "2  missouri health care charity executive sentenc...   True  "
      ]
     },
     "execution_count": 5,
     "metadata": {},
     "output_type": "execute_result"
    }
   ],
   "source": [
    "data.head(3)"
   ]
  },
  {
   "cell_type": "code",
   "execution_count": 6,
   "id": "8b0b1ae1-173c-4ad3-aa8b-822f1daeac4c",
   "metadata": {},
   "outputs": [],
   "source": [
    "change_labels = lambda x: 1 if x==True else 0\n",
    "data['label'] = data['label'].apply(change_labels)"
   ]
  },
  {
   "cell_type": "code",
   "execution_count": 7,
   "id": "5f88f751-ddf5-4d92-a57f-b3628770d0c1",
   "metadata": {},
   "outputs": [
    {
     "data": {
      "text/html": [
       "<div>\n",
       "<style scoped>\n",
       "    .dataframe tbody tr th:only-of-type {\n",
       "        vertical-align: middle;\n",
       "    }\n",
       "\n",
       "    .dataframe tbody tr th {\n",
       "        vertical-align: top;\n",
       "    }\n",
       "\n",
       "    .dataframe thead th {\n",
       "        text-align: right;\n",
       "    }\n",
       "</style>\n",
       "<table border=\"1\" class=\"dataframe\">\n",
       "  <thead>\n",
       "    <tr style=\"text-align: right;\">\n",
       "      <th></th>\n",
       "      <th>article_title</th>\n",
       "      <th>article_summary</th>\n",
       "      <th>article_url</th>\n",
       "      <th>date_published</th>\n",
       "      <th>cleaned_title_summary</th>\n",
       "      <th>label</th>\n",
       "    </tr>\n",
       "  </thead>\n",
       "  <tbody>\n",
       "    <tr>\n",
       "      <th>0</th>\n",
       "      <td>The Justice Department Supports More Competiti...</td>\n",
       "      <td>The Justice Department’s Antitrust Division to...</td>\n",
       "      <td>https://www.justice.gov//opa/pr/justice-depart...</td>\n",
       "      <td>2024-04-29</td>\n",
       "      <td>justice department support competition low pri...</td>\n",
       "      <td>0</td>\n",
       "    </tr>\n",
       "    <tr>\n",
       "      <th>1</th>\n",
       "      <td>Readout of Pardon Attorney’s Outreach Efforts ...</td>\n",
       "      <td>During the month of April, which is recognized...</td>\n",
       "      <td>https://www.justice.gov//opa/pr/readout-pardon...</td>\n",
       "      <td>2024-04-29</td>\n",
       "      <td>readout pardon attorney outreach effort second...</td>\n",
       "      <td>0</td>\n",
       "    </tr>\n",
       "    <tr>\n",
       "      <th>2</th>\n",
       "      <td>Two Former Missouri Health Care Charity Execut...</td>\n",
       "      <td>Two former executives of a Springfield, Missou...</td>\n",
       "      <td>https://www.justice.gov//opa/pr/two-former-mis...</td>\n",
       "      <td>2024-04-29</td>\n",
       "      <td>missouri health care charity executive sentenc...</td>\n",
       "      <td>1</td>\n",
       "    </tr>\n",
       "  </tbody>\n",
       "</table>\n",
       "</div>"
      ],
      "text/plain": [
       "                                       article_title  \\\n",
       "0  The Justice Department Supports More Competiti...   \n",
       "1  Readout of Pardon Attorney’s Outreach Efforts ...   \n",
       "2  Two Former Missouri Health Care Charity Execut...   \n",
       "\n",
       "                                     article_summary  \\\n",
       "0  The Justice Department’s Antitrust Division to...   \n",
       "1  During the month of April, which is recognized...   \n",
       "2  Two former executives of a Springfield, Missou...   \n",
       "\n",
       "                                         article_url date_published  \\\n",
       "0  https://www.justice.gov//opa/pr/justice-depart...     2024-04-29   \n",
       "1  https://www.justice.gov//opa/pr/readout-pardon...     2024-04-29   \n",
       "2  https://www.justice.gov//opa/pr/two-former-mis...     2024-04-29   \n",
       "\n",
       "                               cleaned_title_summary  label  \n",
       "0  justice department support competition low pri...      0  \n",
       "1  readout pardon attorney outreach effort second...      0  \n",
       "2  missouri health care charity executive sentenc...      1  "
      ]
     },
     "execution_count": 7,
     "metadata": {},
     "output_type": "execute_result"
    }
   ],
   "source": [
    "data.head(3)"
   ]
  },
  {
   "cell_type": "markdown",
   "id": "1d6d8e57-9662-49c9-a173-7cd8a62a44d3",
   "metadata": {},
   "source": [
    "# torchtext model"
   ]
  },
  {
   "cell_type": "markdown",
   "id": "65433b89-0957-433e-843b-f95bc063d9e7",
   "metadata": {
    "jp-MarkdownHeadingCollapsed": true
   },
   "source": [
    "#### train/test/validate data sets"
   ]
  },
  {
   "cell_type": "code",
   "execution_count": 8,
   "id": "61dd34ac-60bd-412b-95bc-ea84fdddeabe",
   "metadata": {},
   "outputs": [],
   "source": [
    "# Create train/test sets\n",
    "# X_train, X_test, Y_train, Y_test = train_test_split(data['article_summary'].astype(str).tolist(),\n",
    "X_train, X_test, Y_train, Y_test = train_test_split(data['cleaned_title_summary'].tolist(),\n",
    "                                                     data['label'].tolist(),\n",
    "                                                     test_size=0.2,\n",
    "                                                     stratify=data['label'].tolist(),\n",
    "                                                     random_state=42)\n",
    "\n",
    "# Create validation set\n",
    "X_train, X_valid, Y_train, Y_valid = train_test_split(X_train, Y_train, test_size = 0.1)"
   ]
  },
  {
   "cell_type": "code",
   "execution_count": 9,
   "id": "4c21ec68-807c-4289-992c-3a005f8c42da",
   "metadata": {},
   "outputs": [],
   "source": [
    "train_data = list(zip(Y_train, X_train))\n",
    "valid_data = list(zip(Y_valid, X_valid))\n",
    "test_data = list(zip(Y_test, X_test))"
   ]
  },
  {
   "cell_type": "markdown",
   "id": "a8fa48f5-fe5e-41b3-83db-48502f289972",
   "metadata": {
    "jp-MarkdownHeadingCollapsed": true
   },
   "source": [
    "#### train data vocabulary"
   ]
  },
  {
   "cell_type": "code",
   "execution_count": 10,
   "id": "af28b05d-9786-4685-afd8-2630a7cb45a5",
   "metadata": {},
   "outputs": [],
   "source": [
    "tokenizer = get_tokenizer('basic_english')\n",
    "train_iter = train_data\n",
    "\n",
    "def yield_tokens(data_iter):\n",
    "    for _, text in data_iter:\n",
    "        yield tokenizer(text)\n",
    "\n",
    "vocab = build_vocab_from_iterator(yield_tokens(train_iter), specials=[\"<unk>\"])\n",
    "vocab.set_default_index(vocab[\"<unk>\"])"
   ]
  },
  {
   "cell_type": "markdown",
   "id": "f3de678f-4968-440e-a4d8-0d58e68518d1",
   "metadata": {
    "jp-MarkdownHeadingCollapsed": true
   },
   "source": [
    "#### text and label preprocessing pipleines"
   ]
  },
  {
   "cell_type": "code",
   "execution_count": 11,
   "id": "c78f178f-178c-43be-b92b-e5cd2eaaba99",
   "metadata": {},
   "outputs": [],
   "source": [
    "text_pipeline = lambda x: vocab(tokenizer(x))\n",
    "label_pipeline = lambda x: int(x)"
   ]
  },
  {
   "cell_type": "code",
   "execution_count": 12,
   "id": "81385c55-fe49-403c-8fb9-32c89e68b0ba",
   "metadata": {},
   "outputs": [
    {
     "data": {
      "text/plain": [
       "[2, 1, 128, 460]"
      ]
     },
     "execution_count": 12,
     "metadata": {},
     "output_type": "execute_result"
    }
   ],
   "source": [
    "text_pipeline('justice department support competition')"
   ]
  },
  {
   "cell_type": "markdown",
   "id": "ee39e90c-d04c-4851-98a3-644a66647485",
   "metadata": {
    "jp-MarkdownHeadingCollapsed": true
   },
   "source": [
    "#### batch collation function"
   ]
  },
  {
   "cell_type": "code",
   "execution_count": 13,
   "id": "ee5f439a-541c-42c2-8c2a-45a9f7891fff",
   "metadata": {},
   "outputs": [],
   "source": [
    "def collate_batch(batch):\n",
    "    label_list, text_list, offsets = [], [], [0]\n",
    "    \n",
    "    for (_label, _text) in batch:\n",
    "        label_list.append(label_pipeline(_label))\n",
    "        processed_text = torch.tensor(text_pipeline(_text), dtype=torch.int64)\n",
    "        text_list.append(processed_text)\n",
    "        offsets.append(processed_text.size(0))\n",
    "    \n",
    "    label_list = torch.tensor(label_list, dtype=torch.int64)\n",
    "    offsets = torch.tensor(offsets[:-1]).cumsum(dim=0)\n",
    "    text_list = torch.cat(text_list)\n",
    "    \n",
    "    return label_list.to(device), text_list.to(device), offsets.to(device)\n"
   ]
  },
  {
   "cell_type": "markdown",
   "id": "717f9949-e27f-4e2c-bfd2-6a32742d2a22",
   "metadata": {
    "jp-MarkdownHeadingCollapsed": true
   },
   "source": [
    "#### classification model"
   ]
  },
  {
   "cell_type": "code",
   "execution_count": 14,
   "id": "b8f09269-c46c-4ced-9b9f-51eb39fdb0d9",
   "metadata": {},
   "outputs": [],
   "source": [
    "class TextClassificationModel(nn.Module):\n",
    "    def __init__(self, vocab_size, embed_dim, num_class):\n",
    "        super(TextClassificationModel, self).__init__()\n",
    "        self.embedding = nn.EmbeddingBag(vocab_size, embed_dim, sparse=False)\n",
    "        self.fc = nn.Linear(embed_dim, num_class)\n",
    "        self.init_weights()\n",
    "\n",
    "    def init_weights(self):\n",
    "        initrange = 0.5\n",
    "        self.embedding.weight.data.uniform_(-initrange, initrange)\n",
    "        self.fc.weight.data.uniform_(-initrange, initrange)\n",
    "        self.fc.bias.data.zero_()\n",
    "\n",
    "    def forward(self, text, offsets):\n",
    "        embedded = self.embedding(text, offsets)\n",
    "        return self.fc(embedded)"
   ]
  },
  {
   "cell_type": "code",
   "execution_count": 15,
   "id": "a0e28e68-a941-4302-9313-e6ceb0b0fee5",
   "metadata": {},
   "outputs": [
    {
     "name": "stdout",
     "output_type": "stream",
     "text": [
      "2\n"
     ]
    }
   ],
   "source": [
    "train_iter = train_data\n",
    "num_class = len(set([label for (label, text) in train_iter]))\n",
    "print(num_class)"
   ]
  },
  {
   "cell_type": "code",
   "execution_count": 16,
   "id": "48e8dd33-79b1-4ea1-8f18-0e75d65f7af4",
   "metadata": {},
   "outputs": [],
   "source": [
    "vocab_size = len(vocab)\n",
    "embedding_size = 128\n",
    "model = TextClassificationModel(vocab_size, embedding_size, num_class).to(device)"
   ]
  },
  {
   "cell_type": "markdown",
   "id": "0a39a23e-2af1-4b63-a9fb-ae99087fcb3b",
   "metadata": {
    "jp-MarkdownHeadingCollapsed": true
   },
   "source": [
    "#### train and evaluate methods"
   ]
  },
  {
   "cell_type": "code",
   "execution_count": 17,
   "id": "b9b5a0ba-0c4c-4b74-aa2c-b0d17ae55705",
   "metadata": {},
   "outputs": [],
   "source": [
    "def train(dataloader):\n",
    "    model.train()\n",
    "    total_acc, total_count = 0, 0\n",
    "    log_interval = 25\n",
    "    start_time = time.time()\n",
    "\n",
    "    for idx, (label, text, offsets) in enumerate(dataloader):\n",
    "        optimizer.zero_grad()\n",
    "        predited_label = model(text, offsets)\n",
    "        loss = criterion(predited_label, label)\n",
    "        loss.backward()\n",
    "        \n",
    "        torch.nn.utils.clip_grad_norm_(model.parameters(), 0.1)\n",
    "        optimizer.step()\n",
    "        total_acc += (predited_label.argmax(1) == label).sum().item()\n",
    "        total_count += label.size(0)\n",
    "        \n",
    "        if idx % log_interval == 0 and idx > 0:\n",
    "            elapsed = time.time() - start_time\n",
    "            print('| epoch {:3d} | {:5d}/{:5d} batches '\n",
    "                  '| accuracy {:8.3f}'.format(epoch, idx, len(dataloader), total_acc/total_count))\n",
    "            total_acc, total_count = 0, 0\n",
    "            start_time = time.time()\n",
    "\n",
    "def evaluate(dataloader):\n",
    "    model.eval()\n",
    "    total_acc, total_count = 0, 0\n",
    "\n",
    "    with torch.no_grad():\n",
    "        for idx, (label, text, offsets) in enumerate(dataloader):\n",
    "            predited_label = model(text, offsets)\n",
    "            loss = criterion(predited_label, label)\n",
    "            total_acc += (predited_label.argmax(1) == label).sum().item()\n",
    "            total_count += label.size(0)\n",
    "            \n",
    "    return total_acc/total_count"
   ]
  },
  {
   "cell_type": "markdown",
   "id": "83dc1f69-5738-45a2-9fd3-dc28dc128363",
   "metadata": {
    "jp-MarkdownHeadingCollapsed": true
   },
   "source": [
    "#### train dataloaders"
   ]
  },
  {
   "cell_type": "code",
   "execution_count": 18,
   "id": "c78cf3ca-2abf-494d-bc55-16d39c11aadb",
   "metadata": {},
   "outputs": [
    {
     "name": "stdout",
     "output_type": "stream",
     "text": [
      "| epoch   1 |    25/   68 batches | accuracy    0.663\n",
      "| epoch   1 |    50/   68 batches | accuracy    0.818\n",
      "-----------------------------------------------------------\n",
      "| end of epoch   1 | time:  0.14s | valid accuracy    0.860 \n",
      "-----------------------------------------------------------\n",
      "| epoch   2 |    25/   68 batches | accuracy    0.928\n",
      "| epoch   2 |    50/   68 batches | accuracy    0.895\n",
      "-----------------------------------------------------------\n",
      "| end of epoch   2 | time:  0.10s | valid accuracy    0.884 \n",
      "-----------------------------------------------------------\n",
      "| epoch   3 |    25/   68 batches | accuracy    0.957\n",
      "| epoch   3 |    50/   68 batches | accuracy    0.958\n",
      "-----------------------------------------------------------\n",
      "| end of epoch   3 | time:  0.10s | valid accuracy    0.901 \n",
      "-----------------------------------------------------------\n",
      "| epoch   4 |    25/   68 batches | accuracy    0.978\n",
      "| epoch   4 |    50/   68 batches | accuracy    0.980\n",
      "-----------------------------------------------------------\n",
      "| end of epoch   4 | time:  0.10s | valid accuracy    0.917 \n",
      "-----------------------------------------------------------\n",
      "| epoch   5 |    25/   68 batches | accuracy    0.990\n",
      "| epoch   5 |    50/   68 batches | accuracy    0.998\n",
      "-----------------------------------------------------------\n",
      "| end of epoch   5 | time:  0.10s | valid accuracy    0.917 \n",
      "-----------------------------------------------------------\n",
      "| epoch   6 |    25/   68 batches | accuracy    0.998\n",
      "| epoch   6 |    50/   68 batches | accuracy    0.990\n",
      "-----------------------------------------------------------\n",
      "| end of epoch   6 | time:  0.10s | valid accuracy    0.884 \n",
      "-----------------------------------------------------------\n",
      "| epoch   7 |    25/   68 batches | accuracy    1.000\n",
      "| epoch   7 |    50/   68 batches | accuracy    1.000\n",
      "-----------------------------------------------------------\n",
      "| end of epoch   7 | time:  0.10s | valid accuracy    0.884 \n",
      "-----------------------------------------------------------\n",
      "| epoch   8 |    25/   68 batches | accuracy    1.000\n",
      "| epoch   8 |    50/   68 batches | accuracy    1.000\n",
      "-----------------------------------------------------------\n",
      "| end of epoch   8 | time:  0.11s | valid accuracy    0.884 \n",
      "-----------------------------------------------------------\n",
      "| epoch   9 |    25/   68 batches | accuracy    1.000\n",
      "| epoch   9 |    50/   68 batches | accuracy    1.000\n",
      "-----------------------------------------------------------\n",
      "| end of epoch   9 | time:  0.11s | valid accuracy    0.884 \n",
      "-----------------------------------------------------------\n",
      "| epoch  10 |    25/   68 batches | accuracy    1.000\n",
      "| epoch  10 |    50/   68 batches | accuracy    1.000\n",
      "-----------------------------------------------------------\n",
      "| end of epoch  10 | time:  0.10s | valid accuracy    0.884 \n",
      "-----------------------------------------------------------\n"
     ]
    }
   ],
   "source": [
    "# Hyperparameters\n",
    "EPOCHS = 10 # epoch\n",
    "LR = 10  # learning rate\n",
    "BATCH_SIZE = 16 # batch size for training\n",
    "\n",
    "criterion = torch.nn.CrossEntropyLoss()\n",
    "optimizer = torch.optim.SGD(model.parameters(), lr=LR)\n",
    "scheduler = torch.optim.lr_scheduler.StepLR(optimizer, 1.0, gamma=0.1)\n",
    "total_accuracy = None\n",
    "\n",
    "train_iter = train_data\n",
    "test_iter = test_data\n",
    "valid_iter = valid_data\n",
    "\n",
    "train_dataloader = DataLoader(train_iter, batch_size=BATCH_SIZE, shuffle=True, collate_fn=collate_batch)\n",
    "valid_dataloader = DataLoader(valid_iter, batch_size=BATCH_SIZE, shuffle=True, collate_fn=collate_batch)\n",
    "test_dataloader = DataLoader(test_iter, batch_size=BATCH_SIZE, shuffle=True, collate_fn=collate_batch)\n",
    "\n",
    "for epoch in range(1, EPOCHS + 1):\n",
    "    epoch_start_time = time.time()\n",
    "    train(train_dataloader)\n",
    "    accuracy_val = evaluate(valid_dataloader)\n",
    "    \n",
    "    if total_accuracy is not None and total_accuracy > accuracy_val:\n",
    "      scheduler.step()\n",
    "    else:\n",
    "       total_accuracy = accuracy_val\n",
    "        \n",
    "    print('-' * 59)\n",
    "    print('| end of epoch {:3d} | time: {:5.2f}s | '\n",
    "          'valid accuracy {:8.3f} '.format(epoch, time.time() - epoch_start_time, accuracy_val))\n",
    "    \n",
    "    print('-' * 59)"
   ]
  },
  {
   "cell_type": "code",
   "execution_count": 19,
   "id": "e6dacc0a-7b63-46be-9e07-09116e45c048",
   "metadata": {},
   "outputs": [
    {
     "name": "stdout",
     "output_type": "stream",
     "text": [
      "Checking the results of test dataset.\n",
      "test accuracy    0.910\n"
     ]
    }
   ],
   "source": [
    "print('Checking the results of test dataset.')\n",
    "accu_test = evaluate(test_dataloader)\n",
    "print('test accuracy {:8.3f}'.format(accu_test))"
   ]
  },
  {
   "cell_type": "markdown",
   "id": "2bd5176c-a7c8-4e1d-85cb-4b7c83208da3",
   "metadata": {
    "jp-MarkdownHeadingCollapsed": true
   },
   "source": [
    "#### evaluate model"
   ]
  },
  {
   "cell_type": "code",
   "execution_count": 20,
   "id": "8648aea2-1ead-4ff8-a4bc-e66f85e2df1c",
   "metadata": {},
   "outputs": [],
   "source": [
    "def predict(text, text_pipeline):\n",
    "    with torch.no_grad():\n",
    "        text = torch.tensor(text_pipeline(text))\n",
    "        output = model(text, torch.tensor([0]))\n",
    "        return output.argmax(1).item()"
   ]
  },
  {
   "cell_type": "code",
   "execution_count": 21,
   "id": "048aa522-3462-4747-8bce-1f1a7031cb66",
   "metadata": {},
   "outputs": [
    {
     "name": "stdout",
     "output_type": "stream",
     "text": [
      "missouri health care charity executive sentence role multimillion dollar bribery embezzlement scheme...is compliance related\n"
     ]
    }
   ],
   "source": [
    "compliance_label = {0: 'not compliance related',\n",
    "                    1: 'is compliance related'}\n",
    "\n",
    "text_str = data['cleaned_title_summary'][2]\n",
    "prediction = compliance_label[predict(text_str, text_pipeline)]\n",
    "\n",
    "print(f'{text_str[:100]}...{prediction}')"
   ]
  },
  {
   "cell_type": "markdown",
   "id": "7739bab9-8c20-44c1-8848-204e52bd32a0",
   "metadata": {},
   "source": [
    "### classify article summaries"
   ]
  },
  {
   "cell_type": "code",
   "execution_count": 57,
   "id": "951bceeb-6fb2-446d-b909-4f65f7dc8576",
   "metadata": {},
   "outputs": [],
   "source": [
    "# DOJ article summary range\n",
    "start_date = '05/01/2024'\n",
    "end_date = '05/28/2024'\n",
    "\n",
    "# Set base DOJ url\n",
    "base_url = f'https://www.justice.gov/news/press-releases?search_api_fulltext=+&start_date={start_date}&end_date={end_date}&sort_by=field_date'"
   ]
  },
  {
   "cell_type": "markdown",
   "id": "c4a170b2-c33a-4fe7-a52a-6003eb4fddb1",
   "metadata": {
    "jp-MarkdownHeadingCollapsed": true
   },
   "source": [
    "#### get total pages"
   ]
  },
  {
   "cell_type": "code",
   "execution_count": 58,
   "id": "fdb74707-418a-4f99-b000-08c91bcbff2f",
   "metadata": {},
   "outputs": [],
   "source": [
    "website = requests.get(base_url)\n",
    "soup = BeautifulSoup(website.content, 'html.parser')\n",
    "\n",
    "pagination = soup.find('ul', {'class': 'usa-pagination__list js-pager__items'})\n",
    "pages = pagination.findChildren(recursive=False)\n",
    "\n",
    "max_page_num = 0\n",
    "# iterate <li> tags to get the max number of pages returned by date values\n",
    "for i, page in enumerate(pages):\n",
    "    if i == len(pages) - 1:\n",
    "        a = page.find('a')['href']\n",
    "        idx = a.index('page=')\n",
    "        max_page_num = a[idx:].replace('page=', '')\n",
    "        max_page_num = int(max_page_num)"
   ]
  },
  {
   "cell_type": "markdown",
   "id": "82a05731-a448-43be-82b4-d210be6c67b7",
   "metadata": {
    "jp-MarkdownHeadingCollapsed": true
   },
   "source": [
    "#### get article summaries"
   ]
  },
  {
   "cell_type": "code",
   "execution_count": 59,
   "id": "b0b998ad-f1fa-4f08-b905-76f35d418731",
   "metadata": {},
   "outputs": [],
   "source": [
    "feed_data = []"
   ]
  },
  {
   "cell_type": "code",
   "execution_count": 60,
   "id": "0b8686fb-915b-4559-8712-beb79abe2378",
   "metadata": {},
   "outputs": [
    {
     "name": "stdout",
     "output_type": "stream",
     "text": [
      "Parsing content for page 1 of 11\n",
      "Parsing content for page 2 of 11\n",
      "Parsing content for page 3 of 11\n",
      "Parsing content for page 4 of 11\n",
      "Parsing content for page 5 of 11\n",
      "Parsing content for page 6 of 11\n",
      "Parsing content for page 7 of 11\n",
      "Parsing content for page 8 of 11\n",
      "Parsing content for page 9 of 11\n",
      "Parsing content for page 10 of 11\n",
      "Parsing content for page 11 of 11\n",
      "CPU times: user 766 ms, sys: 28.9 ms, total: 795 ms\n",
      "Wall time: 9.93 s\n"
     ]
    }
   ],
   "source": [
    "%%time\n",
    "for i in range(max_page_num + 1):\n",
    "    page_url = base_url + '&page=' + str(i)\n",
    "    page = requests.get(page_url)\n",
    "    \n",
    "    soup = BeautifulSoup(page.content, 'html.parser')\n",
    "\n",
    "    articles = soup.find('div', {'class': 'rows-wrapper'})\n",
    "    articles = articles.findChildren(recursive=False)\n",
    "\n",
    "    print(f'Parsing content for {\"page \" + str(i + 1)} of {max_page_num + 1}')\n",
    "    for article in articles:\n",
    "        title = article.find('a').text.strip()\n",
    "\n",
    "        summary = article.find('p')\n",
    "        if summary:\n",
    "            summary = summary.text.strip()\n",
    "        else:\n",
    "            summary = np.nan\n",
    "        \n",
    "        url = 'https://www.justice.gov/' + article.find('a')['href']\n",
    "        date = pd.to_datetime(article.find('time')['datetime']).date()\n",
    "\n",
    "        # Append feed data objects\n",
    "        feed_data.append({\n",
    "            'article_title': title,\n",
    "            'article_summary': summary,\n",
    "            'article_url': url,\n",
    "            'date_published': date\n",
    "        })"
   ]
  },
  {
   "cell_type": "code",
   "execution_count": 61,
   "id": "b86d6027-b4d0-456f-b730-b6b0ee360c34",
   "metadata": {},
   "outputs": [
    {
     "name": "stdout",
     "output_type": "stream",
     "text": [
      "dataframe row count: 129\n"
     ]
    },
    {
     "data": {
      "text/html": [
       "<div>\n",
       "<style scoped>\n",
       "    .dataframe tbody tr th:only-of-type {\n",
       "        vertical-align: middle;\n",
       "    }\n",
       "\n",
       "    .dataframe tbody tr th {\n",
       "        vertical-align: top;\n",
       "    }\n",
       "\n",
       "    .dataframe thead th {\n",
       "        text-align: right;\n",
       "    }\n",
       "</style>\n",
       "<table border=\"1\" class=\"dataframe\">\n",
       "  <thead>\n",
       "    <tr style=\"text-align: right;\">\n",
       "      <th></th>\n",
       "      <th>article_title</th>\n",
       "      <th>article_summary</th>\n",
       "      <th>article_url</th>\n",
       "      <th>date_published</th>\n",
       "    </tr>\n",
       "  </thead>\n",
       "  <tbody>\n",
       "    <tr>\n",
       "      <th>0</th>\n",
       "      <td>Attorney General Merrick B. Garland Statement ...</td>\n",
       "      <td>The Justice Department issued the following st...</td>\n",
       "      <td>https://www.justice.gov//opa/pr/attorney-gener...</td>\n",
       "      <td>2024-05-25</td>\n",
       "    </tr>\n",
       "    <tr>\n",
       "      <th>1</th>\n",
       "      <td>Doctor Convicted of $70M Medicare Fraud Scheme</td>\n",
       "      <td>A federal jury convicted a Texas doctor today ...</td>\n",
       "      <td>https://www.justice.gov//opa/pr/doctor-convict...</td>\n",
       "      <td>2024-05-24</td>\n",
       "    </tr>\n",
       "    <tr>\n",
       "      <th>2</th>\n",
       "      <td>Owner of Arkansas Tree Service Business Pleads...</td>\n",
       "      <td>An Arkansas man pleaded guilty to filing a fal...</td>\n",
       "      <td>https://www.justice.gov//opa/pr/owner-arkansas...</td>\n",
       "      <td>2024-05-24</td>\n",
       "    </tr>\n",
       "    <tr>\n",
       "      <th>3</th>\n",
       "      <td>Florida Businessman Daniel Hurt to Pay Over $2...</td>\n",
       "      <td>Daniel Hurt, who owned and/or operated Fountai...</td>\n",
       "      <td>https://www.justice.gov//opa/pr/florida-busine...</td>\n",
       "      <td>2024-05-24</td>\n",
       "    </tr>\n",
       "    <tr>\n",
       "      <th>4</th>\n",
       "      <td>Former CIA Officer Pleads Guilty to Conspiracy...</td>\n",
       "      <td>Alexander Yuk Ching Ma, 71, of Honolulu, a for...</td>\n",
       "      <td>https://www.justice.gov//opa/pr/former-cia-off...</td>\n",
       "      <td>2024-05-24</td>\n",
       "    </tr>\n",
       "  </tbody>\n",
       "</table>\n",
       "</div>"
      ],
      "text/plain": [
       "                                       article_title  \\\n",
       "0  Attorney General Merrick B. Garland Statement ...   \n",
       "1     Doctor Convicted of $70M Medicare Fraud Scheme   \n",
       "2  Owner of Arkansas Tree Service Business Pleads...   \n",
       "3  Florida Businessman Daniel Hurt to Pay Over $2...   \n",
       "4  Former CIA Officer Pleads Guilty to Conspiracy...   \n",
       "\n",
       "                                     article_summary  \\\n",
       "0  The Justice Department issued the following st...   \n",
       "1  A federal jury convicted a Texas doctor today ...   \n",
       "2  An Arkansas man pleaded guilty to filing a fal...   \n",
       "3  Daniel Hurt, who owned and/or operated Fountai...   \n",
       "4  Alexander Yuk Ching Ma, 71, of Honolulu, a for...   \n",
       "\n",
       "                                         article_url date_published  \n",
       "0  https://www.justice.gov//opa/pr/attorney-gener...     2024-05-25  \n",
       "1  https://www.justice.gov//opa/pr/doctor-convict...     2024-05-24  \n",
       "2  https://www.justice.gov//opa/pr/owner-arkansas...     2024-05-24  \n",
       "3  https://www.justice.gov//opa/pr/florida-busine...     2024-05-24  \n",
       "4  https://www.justice.gov//opa/pr/former-cia-off...     2024-05-24  "
      ]
     },
     "execution_count": 61,
     "metadata": {},
     "output_type": "execute_result"
    }
   ],
   "source": [
    "df = pd.DataFrame(feed_data)\n",
    "print(f'dataframe row count: {len(df)}')\n",
    "df.head()"
   ]
  },
  {
   "cell_type": "code",
   "execution_count": 64,
   "id": "4fa01dc9-033f-46b4-b805-2c0cf32d0458",
   "metadata": {},
   "outputs": [
    {
     "data": {
      "text/html": [
       "<div>\n",
       "<style scoped>\n",
       "    .dataframe tbody tr th:only-of-type {\n",
       "        vertical-align: middle;\n",
       "    }\n",
       "\n",
       "    .dataframe tbody tr th {\n",
       "        vertical-align: top;\n",
       "    }\n",
       "\n",
       "    .dataframe thead th {\n",
       "        text-align: right;\n",
       "    }\n",
       "</style>\n",
       "<table border=\"1\" class=\"dataframe\">\n",
       "  <thead>\n",
       "    <tr style=\"text-align: right;\">\n",
       "      <th></th>\n",
       "      <th>article_title</th>\n",
       "      <th>article_summary</th>\n",
       "      <th>article_url</th>\n",
       "      <th>date_published</th>\n",
       "      <th>compliance_related</th>\n",
       "    </tr>\n",
       "  </thead>\n",
       "  <tbody>\n",
       "    <tr>\n",
       "      <th>0</th>\n",
       "      <td>Attorney General Merrick B. Garland Statement ...</td>\n",
       "      <td>The Justice Department issued the following st...</td>\n",
       "      <td>https://www.justice.gov//opa/pr/attorney-gener...</td>\n",
       "      <td>2024-05-25</td>\n",
       "      <td>False</td>\n",
       "    </tr>\n",
       "    <tr>\n",
       "      <th>1</th>\n",
       "      <td>Doctor Convicted of $70M Medicare Fraud Scheme</td>\n",
       "      <td>A federal jury convicted a Texas doctor today ...</td>\n",
       "      <td>https://www.justice.gov//opa/pr/doctor-convict...</td>\n",
       "      <td>2024-05-24</td>\n",
       "      <td>True</td>\n",
       "    </tr>\n",
       "    <tr>\n",
       "      <th>2</th>\n",
       "      <td>Owner of Arkansas Tree Service Business Pleads...</td>\n",
       "      <td>An Arkansas man pleaded guilty to filing a fal...</td>\n",
       "      <td>https://www.justice.gov//opa/pr/owner-arkansas...</td>\n",
       "      <td>2024-05-24</td>\n",
       "      <td>True</td>\n",
       "    </tr>\n",
       "    <tr>\n",
       "      <th>3</th>\n",
       "      <td>Florida Businessman Daniel Hurt to Pay Over $2...</td>\n",
       "      <td>Daniel Hurt, who owned and/or operated Fountai...</td>\n",
       "      <td>https://www.justice.gov//opa/pr/florida-busine...</td>\n",
       "      <td>2024-05-24</td>\n",
       "      <td>True</td>\n",
       "    </tr>\n",
       "    <tr>\n",
       "      <th>4</th>\n",
       "      <td>Former CIA Officer Pleads Guilty to Conspiracy...</td>\n",
       "      <td>Alexander Yuk Ching Ma, 71, of Honolulu, a for...</td>\n",
       "      <td>https://www.justice.gov//opa/pr/former-cia-off...</td>\n",
       "      <td>2024-05-24</td>\n",
       "      <td>True</td>\n",
       "    </tr>\n",
       "  </tbody>\n",
       "</table>\n",
       "</div>"
      ],
      "text/plain": [
       "                                       article_title  \\\n",
       "0  Attorney General Merrick B. Garland Statement ...   \n",
       "1     Doctor Convicted of $70M Medicare Fraud Scheme   \n",
       "2  Owner of Arkansas Tree Service Business Pleads...   \n",
       "3  Florida Businessman Daniel Hurt to Pay Over $2...   \n",
       "4  Former CIA Officer Pleads Guilty to Conspiracy...   \n",
       "\n",
       "                                     article_summary  \\\n",
       "0  The Justice Department issued the following st...   \n",
       "1  A federal jury convicted a Texas doctor today ...   \n",
       "2  An Arkansas man pleaded guilty to filing a fal...   \n",
       "3  Daniel Hurt, who owned and/or operated Fountai...   \n",
       "4  Alexander Yuk Ching Ma, 71, of Honolulu, a for...   \n",
       "\n",
       "                                         article_url date_published  \\\n",
       "0  https://www.justice.gov//opa/pr/attorney-gener...     2024-05-25   \n",
       "1  https://www.justice.gov//opa/pr/doctor-convict...     2024-05-24   \n",
       "2  https://www.justice.gov//opa/pr/owner-arkansas...     2024-05-24   \n",
       "3  https://www.justice.gov//opa/pr/florida-busine...     2024-05-24   \n",
       "4  https://www.justice.gov//opa/pr/former-cia-off...     2024-05-24   \n",
       "\n",
       "  compliance_related  \n",
       "0              False  \n",
       "1               True  \n",
       "2               True  \n",
       "3               True  \n",
       "4               True  "
      ]
     },
     "execution_count": 64,
     "metadata": {},
     "output_type": "execute_result"
    }
   ],
   "source": [
    "# Set label output values\n",
    "compliance_label = {0: 'False',\n",
    "                    1: 'True'}\n",
    "\n",
    "# Iterate dataframe\n",
    "for idx, row in df.iterrows():\n",
    "    title = str(row['article_title'])\n",
    "    summary = str(row['article_summary'])\n",
    "    text_str = title + \" \" + summary\n",
    "    # cleaned_text_str = clean_text(text_str)\n",
    "    prediction = compliance_label[predict(text_str, text_pipeline)]\n",
    "\n",
    "    df.loc[idx, \"compliance_related\"] = prediction\n",
    "\n",
    "df.head()"
   ]
  },
  {
   "cell_type": "code",
   "execution_count": 65,
   "id": "724d0dfb-5348-4071-8ee1-3d398fdd202b",
   "metadata": {},
   "outputs": [
    {
     "name": "stdout",
     "output_type": "stream",
     "text": [
      "Number of predicted articles: 129\n"
     ]
    }
   ],
   "source": [
    "print(f'Number of predicted articles: {len(df)}')"
   ]
  },
  {
   "cell_type": "code",
   "execution_count": 67,
   "id": "e5e75740-773d-4206-87c7-248178a1a196",
   "metadata": {},
   "outputs": [],
   "source": [
    "df.to_csv('predicted doj articles.xlsx', index=False)"
   ]
  },
  {
   "cell_type": "code",
   "execution_count": null,
   "id": "a3dff0ca-e913-4be0-a2dd-fff266f26485",
   "metadata": {},
   "outputs": [],
   "source": []
  }
 ],
 "metadata": {
  "kernelspec": {
   "display_name": "fads",
   "language": "python",
   "name": "fads"
  },
  "language_info": {
   "codemirror_mode": {
    "name": "ipython",
    "version": 3
   },
   "file_extension": ".py",
   "mimetype": "text/x-python",
   "name": "python",
   "nbconvert_exporter": "python",
   "pygments_lexer": "ipython3",
   "version": "3.11.9"
  }
 },
 "nbformat": 4,
 "nbformat_minor": 5
}
