{
 "cells": [
  {
   "cell_type": "markdown",
   "id": "91d5f404-4d90-41f0-8150-1efd52cff8aa",
   "metadata": {},
   "source": [
    "### Imports"
   ]
  },
  {
   "cell_type": "code",
   "execution_count": 1,
   "id": "6068b576-7c49-44e3-be96-98f4cb926df3",
   "metadata": {},
   "outputs": [],
   "source": [
    "import requests\n",
    "from bs4 import BeautifulSoup\n",
    "\n",
    "import pandas as pd\n",
    "import numpy as np\n",
    "\n",
    "from tqdm.notebook import trange\n",
    "\n",
    "import regex as re\n",
    "import unicodedata\n",
    "\n",
    "import nltk\n",
    "# nltk.download('wordnet')\n",
    "# nltk.download('omw-1.4')\n",
    "# nltk.download('stopwords')\n",
    "# from nltk.stem import WordNetLemmatizer\n",
    "# from nltk.tokenize import word_tokenize\n",
    "from nltk.corpus import stopwords\n",
    "english_stopwords = set(stopwords.words('english'))\n",
    "import spacy\n",
    "nlp = spacy.load(\"en_core_web_sm\")"
   ]
  },
  {
   "cell_type": "markdown",
   "id": "0a7e2a91-78b6-4a11-8cdc-a39879cf1b9a",
   "metadata": {},
   "source": [
    "### Functions"
   ]
  },
  {
   "cell_type": "markdown",
   "id": "8fc36540-0c59-4ff1-a9fd-70cab0697263",
   "metadata": {},
   "source": [
    "#### scrape DOJ press releases"
   ]
  },
  {
   "cell_type": "code",
   "execution_count": 2,
   "id": "876e33b2-d3d3-44c5-9a06-9da1d3b4c647",
   "metadata": {},
   "outputs": [],
   "source": [
    "def doj_base_url(start_date, end_date) -> str:\n",
    "    base_url = f'https://www.justice.gov/news/press-releases?search_api_fulltext=+&start_date={start_date}&end_date={end_date}&sort_by=field_date'\n",
    "    \n",
    "    return base_url"
   ]
  },
  {
   "cell_type": "code",
   "execution_count": 3,
   "id": "aacf65c0-5706-4ad1-a243-60702eff7661",
   "metadata": {},
   "outputs": [],
   "source": [
    "def doj_pagination_counter(base_url):\n",
    "    \n",
    "    website = requests.get(base_url)\n",
    "    soup = BeautifulSoup(website.content, 'html.parser')\n",
    "    \n",
    "    pagination = soup.find('ul', {'class': 'usa-pagination__list js-pager__items'})\n",
    "    pages = pagination.findChildren(recursive=False)\n",
    "    \n",
    "    max_page_num = 0\n",
    "    # iterate <li> tags to get the max number of pages returned by date values\n",
    "    for i, page in enumerate(pages):\n",
    "        if i == len(pages) - 1:\n",
    "            a = page.find('a')['href']\n",
    "            idx = a.index('page=')\n",
    "            max_page_num = a[idx:].replace('page=', '')\n",
    "            max_page_num = int(max_page_num)\n",
    "\n",
    "    return max_page_num"
   ]
  },
  {
   "cell_type": "code",
   "execution_count": 4,
   "id": "9eb8a1a7-740b-4b8d-9b5c-35dcc5500c0e",
   "metadata": {},
   "outputs": [],
   "source": [
    "def get_doj_press_releases(base_url, max_page_num):\n",
    "\n",
    "    # Intialize list\n",
    "    feed_data = []\n",
    "\n",
    "    # Iterate press release pages\n",
    "    for i in trange(max_page_num + 1, desc='retrieving summaries'):\n",
    "        page_url = base_url + '&page=' + str(i)\n",
    "        page = requests.get(page_url)\n",
    "\n",
    "        # Instantiate bs4 object\n",
    "        soup = BeautifulSoup(page.content, 'html.parser')\n",
    "        \n",
    "        # find summary tag(s)\n",
    "        articles = soup.find('div', {'class': 'rows-wrapper'})\n",
    "        articles = articles.findChildren(recursive=False)\n",
    "\n",
    "        # Get article title and summaries\n",
    "        for article in articles:\n",
    "\n",
    "            title = article.find('a').text.strip()    \n",
    "            summary = article.find('p')\n",
    "            \n",
    "            if summary:\n",
    "                summary = summary.text.strip()\n",
    "            else:\n",
    "                summary = np.nan\n",
    "            \n",
    "            url = 'https://www.justice.gov/' + article.find('a')['href']\n",
    "            date = pd.to_datetime(article.find('time')['datetime']).date()\n",
    "    \n",
    "            # Append feed data objects\n",
    "            feed_data.append({\n",
    "                'article_title': title,\n",
    "                'article_summary': summary,\n",
    "                'article_url': url,\n",
    "                'date_published': date\n",
    "            })\n",
    "\n",
    "    df = pd.DataFrame(feed_data)\n",
    "    print(f'Number of press releases: {len(df)}')\n",
    "    \n",
    "    return df"
   ]
  },
  {
   "cell_type": "markdown",
   "id": "6d3dedff-2525-47ef-9845-d911a7372b2d",
   "metadata": {
    "jp-MarkdownHeadingCollapsed": true
   },
   "source": [
    "#### clean text"
   ]
  },
  {
   "cell_type": "code",
   "execution_count": 5,
   "id": "c807b878-25e0-4593-911f-d91d10ca29ce",
   "metadata": {},
   "outputs": [],
   "source": [
    "def clean_text(doc):\n",
    "    \n",
    "    # normalize Text\n",
    "    doc = doc.lower()\n",
    "\n",
    "    # remove unnecessary whitespaces\n",
    "    doc = re.sub('\\s+', ' ', doc)\n",
    "    doc = doc.strip()\n",
    "    \n",
    "    # remove html tags\n",
    "    doc = re.sub('<.*?>', '', doc)\n",
    "    \n",
    "    # remove email addresses\n",
    "    doc = re.sub(r'([a-z0-9+._-]+@[a-z0-9+._-]+\\.[a-z0-9+_-]+)', '', doc)\n",
    "    \n",
    "    # remove url\n",
    "    doc = re.sub(r'(http|https|ftp|ssh)://([\\w_-]+(?:(?:\\.[\\w_-]+)+))([\\w.,@?^=%&:/~+#-]*[\\w@?^=%&/~+#-])?', '', doc)\n",
    "    \n",
    "    # remove accented characters\n",
    "    doc = unicodedata.normalize('NFKD', doc).encode('ascii', 'ignore').decode('utf-8', 'ignore')\n",
    "\n",
    "    # remove special symbols/punctuation\n",
    "    doc = re.sub(r'[^\\w ]+', ' ', doc)\n",
    "\n",
    "    # remove stopwords\n",
    "    doc = ' '.join([word.strip() for word in doc.split() if word not in english_stopwords])\n",
    "\n",
    "    # lemmatization\n",
    "    text = []\n",
    "    for tok in nlp(doc):\n",
    "        text.append(tok.lemma_)    \n",
    "    doc = ' '.join(text)\n",
    "\n",
    "    # lemmatizer = WordNetLemmatizer()\n",
    "    # doc = ' '.join([lemmatizer.lemmatize(word) for word in word_tokenize(doc)])\n",
    "\n",
    "    return doc\n",
    "    "
   ]
  },
  {
   "cell_type": "markdown",
   "id": "bffe773b-97a5-4a68-9ad1-927c65c721bc",
   "metadata": {},
   "source": [
    "### Scrape dataset (DOJ press releases)"
   ]
  },
  {
   "cell_type": "markdown",
   "id": "4da399bd-fe94-4d10-9b6e-202a62621c78",
   "metadata": {},
   "source": [
    "#### Train"
   ]
  },
  {
   "cell_type": "code",
   "execution_count": 6,
   "id": "40e7c716-1cf9-4964-b1f7-b4156f12946c",
   "metadata": {},
   "outputs": [],
   "source": [
    "# # Declare scraping dates\n",
    "# start_date = '01/01/2020'\n",
    "# end_date = '04/30/2024'\n",
    "\n",
    "# data_file = 'data/doj_data_Jan2020-April2024.csv'"
   ]
  },
  {
   "cell_type": "markdown",
   "id": "4bc27758-fbc8-452e-af1c-92bf73b6a9bb",
   "metadata": {},
   "source": [
    "#### Infer"
   ]
  },
  {
   "cell_type": "code",
   "execution_count": 6,
   "id": "9c283f50-6339-4274-81ff-ab55f5cae578",
   "metadata": {},
   "outputs": [],
   "source": [
    "# Declare scraping dates\n",
    "start_date = '05/01/2024'\n",
    "end_date = '05/31/2024'\n",
    "\n",
    "data_file = 'data/doj_data_May2024.csv'"
   ]
  },
  {
   "cell_type": "code",
   "execution_count": 7,
   "id": "d30f1018-9620-4818-b9ad-4cd3e14b9b2d",
   "metadata": {},
   "outputs": [],
   "source": [
    "# Function calls to get DOJ press release scrape parameters\n",
    "base_url = doj_base_url(start_date, end_date)\n",
    "max_page_num = doj_pagination_counter(base_url)"
   ]
  },
  {
   "cell_type": "code",
   "execution_count": 8,
   "id": "8ce4419b-7aab-438a-8ef2-81750b6ad232",
   "metadata": {},
   "outputs": [
    {
     "data": {
      "application/vnd.jupyter.widget-view+json": {
       "model_id": "a4ea5e7379e6490f910b5e2b36528ed6",
       "version_major": 2,
       "version_minor": 0
      },
      "text/plain": [
       "retrieving summaries:   0%|          | 0/12 [00:00<?, ?it/s]"
      ]
     },
     "metadata": {},
     "output_type": "display_data"
    },
    {
     "name": "stdout",
     "output_type": "stream",
     "text": [
      "Number of press releases: 144\n"
     ]
    },
    {
     "data": {
      "text/html": [
       "<div>\n",
       "<style scoped>\n",
       "    .dataframe tbody tr th:only-of-type {\n",
       "        vertical-align: middle;\n",
       "    }\n",
       "\n",
       "    .dataframe tbody tr th {\n",
       "        vertical-align: top;\n",
       "    }\n",
       "\n",
       "    .dataframe thead th {\n",
       "        text-align: right;\n",
       "    }\n",
       "</style>\n",
       "<table border=\"1\" class=\"dataframe\">\n",
       "  <thead>\n",
       "    <tr style=\"text-align: right;\">\n",
       "      <th></th>\n",
       "      <th>article_title</th>\n",
       "      <th>article_summary</th>\n",
       "      <th>article_url</th>\n",
       "      <th>date_published</th>\n",
       "    </tr>\n",
       "  </thead>\n",
       "  <tbody>\n",
       "    <tr>\n",
       "      <th>0</th>\n",
       "      <td>Justice Department and State Coalition Restore...</td>\n",
       "      <td>Today, the Justice Department filed a proposed...</td>\n",
       "      <td>https://www.justice.gov//opa/pr/justice-depart...</td>\n",
       "      <td>2024-05-30</td>\n",
       "    </tr>\n",
       "    <tr>\n",
       "      <th>1</th>\n",
       "      <td>Final Texas Defendants Plead Guilty to Conspir...</td>\n",
       "      <td>A Texas man pleaded guilty on Friday to conspi...</td>\n",
       "      <td>https://www.justice.gov//opa/pr/final-texas-de...</td>\n",
       "      <td>2024-05-30</td>\n",
       "    </tr>\n",
       "    <tr>\n",
       "      <th>2</th>\n",
       "      <td>Former Investment Banker and Registered Broker...</td>\n",
       "      <td>A former investment banker, who was formerly a...</td>\n",
       "      <td>https://www.justice.gov//opa/pr/former-investm...</td>\n",
       "      <td>2024-05-30</td>\n",
       "    </tr>\n",
       "    <tr>\n",
       "      <th>3</th>\n",
       "      <td>Two Estonian Nationals Extradited from Estonia...</td>\n",
       "      <td>Two Estonian nationals will make their initial...</td>\n",
       "      <td>https://www.justice.gov//opa/pr/two-estonian-n...</td>\n",
       "      <td>2024-05-30</td>\n",
       "    </tr>\n",
       "    <tr>\n",
       "      <th>4</th>\n",
       "      <td>Naval Commander Sentenced for Distributing Chi...</td>\n",
       "      <td>Gregory Edward McLean, 40, of Jacksonville, Fl...</td>\n",
       "      <td>https://www.justice.gov//opa/pr/naval-commande...</td>\n",
       "      <td>2024-05-30</td>\n",
       "    </tr>\n",
       "  </tbody>\n",
       "</table>\n",
       "</div>"
      ],
      "text/plain": [
       "                                       article_title  \\\n",
       "0  Justice Department and State Coalition Restore...   \n",
       "1  Final Texas Defendants Plead Guilty to Conspir...   \n",
       "2  Former Investment Banker and Registered Broker...   \n",
       "3  Two Estonian Nationals Extradited from Estonia...   \n",
       "4  Naval Commander Sentenced for Distributing Chi...   \n",
       "\n",
       "                                     article_summary  \\\n",
       "0  Today, the Justice Department filed a proposed...   \n",
       "1  A Texas man pleaded guilty on Friday to conspi...   \n",
       "2  A former investment banker, who was formerly a...   \n",
       "3  Two Estonian nationals will make their initial...   \n",
       "4  Gregory Edward McLean, 40, of Jacksonville, Fl...   \n",
       "\n",
       "                                         article_url date_published  \n",
       "0  https://www.justice.gov//opa/pr/justice-depart...     2024-05-30  \n",
       "1  https://www.justice.gov//opa/pr/final-texas-de...     2024-05-30  \n",
       "2  https://www.justice.gov//opa/pr/former-investm...     2024-05-30  \n",
       "3  https://www.justice.gov//opa/pr/two-estonian-n...     2024-05-30  \n",
       "4  https://www.justice.gov//opa/pr/naval-commande...     2024-05-30  "
      ]
     },
     "execution_count": 8,
     "metadata": {},
     "output_type": "execute_result"
    }
   ],
   "source": [
    "# Function call to scrape DOj press releases\n",
    "df = get_doj_press_releases(base_url, max_page_num)\n",
    "df.head()"
   ]
  },
  {
   "cell_type": "markdown",
   "id": "f4b5a1f7-cf5a-4500-99ff-ce2bfcce6db9",
   "metadata": {},
   "source": [
    "### Working dataframe"
   ]
  },
  {
   "cell_type": "markdown",
   "id": "d9a76369-783a-43ad-a742-a99c9b93dfcb",
   "metadata": {},
   "source": [
    "### write"
   ]
  },
  {
   "cell_type": "code",
   "execution_count": 9,
   "id": "2a516229-266d-4e90-a49e-9aa0025de54c",
   "metadata": {},
   "outputs": [],
   "source": [
    "df.to_csv(data_file, index=False)"
   ]
  },
  {
   "cell_type": "markdown",
   "id": "fd37bf82-f313-4e6c-93ef-077f742b6717",
   "metadata": {},
   "source": [
    "### read"
   ]
  },
  {
   "cell_type": "code",
   "execution_count": 31,
   "id": "6bae4dde-6562-439b-a95d-1defcf4a1601",
   "metadata": {},
   "outputs": [],
   "source": [
    "# train_df = df.copy()\n",
    "train_df = pd.read_csv(data_file)"
   ]
  },
  {
   "cell_type": "code",
   "execution_count": 32,
   "id": "f89cc857-1b89-4126-8f2c-ad40260c67d9",
   "metadata": {},
   "outputs": [
    {
     "data": {
      "text/html": [
       "<div>\n",
       "<style scoped>\n",
       "    .dataframe tbody tr th:only-of-type {\n",
       "        vertical-align: middle;\n",
       "    }\n",
       "\n",
       "    .dataframe tbody tr th {\n",
       "        vertical-align: top;\n",
       "    }\n",
       "\n",
       "    .dataframe thead th {\n",
       "        text-align: right;\n",
       "    }\n",
       "</style>\n",
       "<table border=\"1\" class=\"dataframe\">\n",
       "  <thead>\n",
       "    <tr style=\"text-align: right;\">\n",
       "      <th></th>\n",
       "      <th>article_title</th>\n",
       "      <th>article_summary</th>\n",
       "      <th>article_url</th>\n",
       "      <th>date_published</th>\n",
       "      <th>title_summary</th>\n",
       "      <th>cleaned_title_summary</th>\n",
       "    </tr>\n",
       "  </thead>\n",
       "  <tbody>\n",
       "    <tr>\n",
       "      <th>0</th>\n",
       "      <td>Justice Department and State Coalition Restore...</td>\n",
       "      <td>Today, the Justice Department filed a proposed...</td>\n",
       "      <td>https://www.justice.gov//opa/pr/justice-depart...</td>\n",
       "      <td>2024-05-30</td>\n",
       "      <td>Justice Department and State Coalition Restore...</td>\n",
       "      <td>justice department state coalition restore com...</td>\n",
       "    </tr>\n",
       "    <tr>\n",
       "      <th>1</th>\n",
       "      <td>Final Texas Defendants Plead Guilty to Conspir...</td>\n",
       "      <td>A Texas man pleaded guilty on Friday to conspi...</td>\n",
       "      <td>https://www.justice.gov//opa/pr/final-texas-de...</td>\n",
       "      <td>2024-05-30</td>\n",
       "      <td>Final Texas Defendants Plead Guilty to Conspir...</td>\n",
       "      <td>final texas defendant plead guilty conspiracy ...</td>\n",
       "    </tr>\n",
       "    <tr>\n",
       "      <th>2</th>\n",
       "      <td>Former Investment Banker and Registered Broker...</td>\n",
       "      <td>A former investment banker, who was formerly a...</td>\n",
       "      <td>https://www.justice.gov//opa/pr/former-investm...</td>\n",
       "      <td>2024-05-30</td>\n",
       "      <td>Former Investment Banker and Registered Broker...</td>\n",
       "      <td>former investment banker register broker sente...</td>\n",
       "    </tr>\n",
       "  </tbody>\n",
       "</table>\n",
       "</div>"
      ],
      "text/plain": [
       "                                       article_title  \\\n",
       "0  Justice Department and State Coalition Restore...   \n",
       "1  Final Texas Defendants Plead Guilty to Conspir...   \n",
       "2  Former Investment Banker and Registered Broker...   \n",
       "\n",
       "                                     article_summary  \\\n",
       "0  Today, the Justice Department filed a proposed...   \n",
       "1  A Texas man pleaded guilty on Friday to conspi...   \n",
       "2  A former investment banker, who was formerly a...   \n",
       "\n",
       "                                         article_url date_published  \\\n",
       "0  https://www.justice.gov//opa/pr/justice-depart...     2024-05-30   \n",
       "1  https://www.justice.gov//opa/pr/final-texas-de...     2024-05-30   \n",
       "2  https://www.justice.gov//opa/pr/former-investm...     2024-05-30   \n",
       "\n",
       "                                       title_summary  \\\n",
       "0  Justice Department and State Coalition Restore...   \n",
       "1  Final Texas Defendants Plead Guilty to Conspir...   \n",
       "2  Former Investment Banker and Registered Broker...   \n",
       "\n",
       "                               cleaned_title_summary  \n",
       "0  justice department state coalition restore com...  \n",
       "1  final texas defendant plead guilty conspiracy ...  \n",
       "2  former investment banker register broker sente...  "
      ]
     },
     "execution_count": 32,
     "metadata": {},
     "output_type": "execute_result"
    }
   ],
   "source": [
    "# Combine title and summary\n",
    "train_df['title_summary'] = train_df['article_title'].astype(str) + \" \" + train_df['article_summary'].astype(str)\n",
    "# Function call to clean itle and summary text\n",
    "train_df['cleaned_title_summary'] = train_df['title_summary'].apply(clean_text)\n",
    "\n",
    "train_df.head(3)"
   ]
  },
  {
   "cell_type": "markdown",
   "id": "db832d62-6566-4c35-98d0-44c6bdc1ab5a",
   "metadata": {},
   "source": [
    "### Annote dataset"
   ]
  },
  {
   "cell_type": "code",
   "execution_count": 33,
   "id": "ad81e811-9687-4728-a864-cdf9f544df7c",
   "metadata": {},
   "outputs": [
    {
     "data": {
      "text/html": [
       "<div>\n",
       "<style scoped>\n",
       "    .dataframe tbody tr th:only-of-type {\n",
       "        vertical-align: middle;\n",
       "    }\n",
       "\n",
       "    .dataframe tbody tr th {\n",
       "        vertical-align: top;\n",
       "    }\n",
       "\n",
       "    .dataframe thead th {\n",
       "        text-align: right;\n",
       "    }\n",
       "</style>\n",
       "<table border=\"1\" class=\"dataframe\">\n",
       "  <thead>\n",
       "    <tr style=\"text-align: right;\">\n",
       "      <th></th>\n",
       "      <th>compliance_terms</th>\n",
       "    </tr>\n",
       "  </thead>\n",
       "  <tbody>\n",
       "    <tr>\n",
       "      <th>0</th>\n",
       "      <td>account</td>\n",
       "    </tr>\n",
       "    <tr>\n",
       "      <th>1</th>\n",
       "      <td>accounting fraud</td>\n",
       "    </tr>\n",
       "    <tr>\n",
       "      <th>2</th>\n",
       "      <td>antitrust</td>\n",
       "    </tr>\n",
       "    <tr>\n",
       "      <th>3</th>\n",
       "      <td>asset misappropriation</td>\n",
       "    </tr>\n",
       "    <tr>\n",
       "      <th>4</th>\n",
       "      <td>asset strip</td>\n",
       "    </tr>\n",
       "  </tbody>\n",
       "</table>\n",
       "</div>"
      ],
      "text/plain": [
       "         compliance_terms\n",
       "0                 account\n",
       "1        accounting fraud\n",
       "2               antitrust\n",
       "3  asset misappropriation\n",
       "4             asset strip"
      ]
     },
     "execution_count": 33,
     "metadata": {},
     "output_type": "execute_result"
    }
   ],
   "source": [
    "# Read compliance corpus csv\n",
    "compliance_df = pd.read_csv('compliance words/complinace_corpus.csv')\n",
    "\n",
    "# Clearn compliance corpus terms\n",
    "compliance_df['compliance_terms'] = compliance_df['compliance_terms'].apply(clean_text)\n",
    "compliance_df.head()"
   ]
  },
  {
   "cell_type": "code",
   "execution_count": 34,
   "id": "8458b6db-a2dc-4952-adac-6b8e0292a14a",
   "metadata": {},
   "outputs": [],
   "source": [
    "# Convert compliance terms to list\n",
    "compliance_terms = compliance_df['compliance_terms'].tolist()"
   ]
  },
  {
   "cell_type": "code",
   "execution_count": 35,
   "id": "2ce1e51b-26ba-4d5a-a437-1d07810eacac",
   "metadata": {},
   "outputs": [
    {
     "data": {
      "text/plain": [
       "label\n",
       "True     78\n",
       "False    66\n",
       "Name: count, dtype: int64"
      ]
     },
     "execution_count": 35,
     "metadata": {},
     "output_type": "execute_result"
    }
   ],
   "source": [
    "# Check cleaned DOJ press release text for compliance terms\n",
    "train_df['label'] = train_df['cleaned_title_summary'].str.contains('|'.join(compliance_terms))\n",
    "\n",
    "# Count labels \n",
    "train_df['label'].value_counts()\n"
   ]
  },
  {
   "cell_type": "code",
   "execution_count": 36,
   "id": "4fa678ba-0508-48b7-9a52-0587d6c04f5d",
   "metadata": {},
   "outputs": [
    {
     "name": "stdout",
     "output_type": "stream",
     "text": [
      "['traffic', 'traffic']\n"
     ]
    }
   ],
   "source": [
    "# Get non compliance corpus terms\n",
    "not_compliance_df = pd.read_csv('compliance words/not_complinace_corpus.csv')\n",
    "not_compliance_df['not_compliance_terms'] = not_compliance_df['not_compliance_terms'].apply(clean_text)\n",
    "\n",
    "not_compliance_terms = not_compliance_df['not_compliance_terms'].tolist()\n",
    "\n",
    "print(not_compliance_terms)\n"
   ]
  },
  {
   "cell_type": "code",
   "execution_count": 37,
   "id": "09a4b359-862a-45f3-8a42-5ee4b98e3813",
   "metadata": {},
   "outputs": [
    {
     "data": {
      "text/html": [
       "<div>\n",
       "<style scoped>\n",
       "    .dataframe tbody tr th:only-of-type {\n",
       "        vertical-align: middle;\n",
       "    }\n",
       "\n",
       "    .dataframe tbody tr th {\n",
       "        vertical-align: top;\n",
       "    }\n",
       "\n",
       "    .dataframe thead th {\n",
       "        text-align: right;\n",
       "    }\n",
       "</style>\n",
       "<table border=\"1\" class=\"dataframe\">\n",
       "  <thead>\n",
       "    <tr style=\"text-align: right;\">\n",
       "      <th></th>\n",
       "      <th>article_title</th>\n",
       "      <th>article_summary</th>\n",
       "      <th>article_url</th>\n",
       "      <th>date_published</th>\n",
       "      <th>title_summary</th>\n",
       "      <th>cleaned_title_summary</th>\n",
       "      <th>label</th>\n",
       "      <th>modify_label</th>\n",
       "    </tr>\n",
       "  </thead>\n",
       "  <tbody>\n",
       "    <tr>\n",
       "      <th>0</th>\n",
       "      <td>Justice Department and State Coalition Restore...</td>\n",
       "      <td>Today, the Justice Department filed a proposed...</td>\n",
       "      <td>https://www.justice.gov//opa/pr/justice-depart...</td>\n",
       "      <td>2024-05-30</td>\n",
       "      <td>Justice Department and State Coalition Restore...</td>\n",
       "      <td>justice department state coalition restore com...</td>\n",
       "      <td>False</td>\n",
       "      <td>False</td>\n",
       "    </tr>\n",
       "    <tr>\n",
       "      <th>1</th>\n",
       "      <td>Final Texas Defendants Plead Guilty to Conspir...</td>\n",
       "      <td>A Texas man pleaded guilty on Friday to conspi...</td>\n",
       "      <td>https://www.justice.gov//opa/pr/final-texas-de...</td>\n",
       "      <td>2024-05-30</td>\n",
       "      <td>Final Texas Defendants Plead Guilty to Conspir...</td>\n",
       "      <td>final texas defendant plead guilty conspiracy ...</td>\n",
       "      <td>True</td>\n",
       "      <td>False</td>\n",
       "    </tr>\n",
       "    <tr>\n",
       "      <th>2</th>\n",
       "      <td>Former Investment Banker and Registered Broker...</td>\n",
       "      <td>A former investment banker, who was formerly a...</td>\n",
       "      <td>https://www.justice.gov//opa/pr/former-investm...</td>\n",
       "      <td>2024-05-30</td>\n",
       "      <td>Former Investment Banker and Registered Broker...</td>\n",
       "      <td>former investment banker register broker sente...</td>\n",
       "      <td>True</td>\n",
       "      <td>False</td>\n",
       "    </tr>\n",
       "  </tbody>\n",
       "</table>\n",
       "</div>"
      ],
      "text/plain": [
       "                                       article_title  \\\n",
       "0  Justice Department and State Coalition Restore...   \n",
       "1  Final Texas Defendants Plead Guilty to Conspir...   \n",
       "2  Former Investment Banker and Registered Broker...   \n",
       "\n",
       "                                     article_summary  \\\n",
       "0  Today, the Justice Department filed a proposed...   \n",
       "1  A Texas man pleaded guilty on Friday to conspi...   \n",
       "2  A former investment banker, who was formerly a...   \n",
       "\n",
       "                                         article_url date_published  \\\n",
       "0  https://www.justice.gov//opa/pr/justice-depart...     2024-05-30   \n",
       "1  https://www.justice.gov//opa/pr/final-texas-de...     2024-05-30   \n",
       "2  https://www.justice.gov//opa/pr/former-investm...     2024-05-30   \n",
       "\n",
       "                                       title_summary  \\\n",
       "0  Justice Department and State Coalition Restore...   \n",
       "1  Final Texas Defendants Plead Guilty to Conspir...   \n",
       "2  Former Investment Banker and Registered Broker...   \n",
       "\n",
       "                               cleaned_title_summary  label  modify_label  \n",
       "0  justice department state coalition restore com...  False         False  \n",
       "1  final texas defendant plead guilty conspiracy ...   True         False  \n",
       "2  former investment banker register broker sente...   True         False  "
      ]
     },
     "execution_count": 37,
     "metadata": {},
     "output_type": "execute_result"
    }
   ],
   "source": [
    "# Label non compliance data\n",
    "train_df['modify_label'] = train_df['cleaned_title_summary'].str.contains('|'.join(not_compliance_terms))\n",
    "\n",
    "train_df.loc[train_df['modify_label'] == True, 'label'] = False\n",
    "\n",
    "# train_df['label'] = train_df.apply(lambda row: False if row['modify_label'] == True else row['label'], axis=1)\n",
    "train_df.head(3)"
   ]
  },
  {
   "cell_type": "code",
   "execution_count": 38,
   "id": "93cf8400-d8bd-41c2-a535-67e7c844ddbf",
   "metadata": {},
   "outputs": [
    {
     "data": {
      "text/plain": [
       "label\n",
       "True     74\n",
       "False    70\n",
       "Name: count, dtype: int64"
      ]
     },
     "execution_count": 38,
     "metadata": {},
     "output_type": "execute_result"
    }
   ],
   "source": [
    "# Count labels \n",
    "train_df['label'].value_counts()"
   ]
  },
  {
   "cell_type": "code",
   "execution_count": 39,
   "id": "16ad40b1-7557-473f-bfe0-fa113b2d32ed",
   "metadata": {},
   "outputs": [
    {
     "data": {
      "text/html": [
       "<div>\n",
       "<style scoped>\n",
       "    .dataframe tbody tr th:only-of-type {\n",
       "        vertical-align: middle;\n",
       "    }\n",
       "\n",
       "    .dataframe tbody tr th {\n",
       "        vertical-align: top;\n",
       "    }\n",
       "\n",
       "    .dataframe thead th {\n",
       "        text-align: right;\n",
       "    }\n",
       "</style>\n",
       "<table border=\"1\" class=\"dataframe\">\n",
       "  <thead>\n",
       "    <tr style=\"text-align: right;\">\n",
       "      <th></th>\n",
       "      <th>article_title</th>\n",
       "      <th>article_summary</th>\n",
       "      <th>article_url</th>\n",
       "      <th>date_published</th>\n",
       "      <th>title_summary</th>\n",
       "      <th>cleaned_title_summary</th>\n",
       "      <th>label</th>\n",
       "    </tr>\n",
       "  </thead>\n",
       "  <tbody>\n",
       "    <tr>\n",
       "      <th>0</th>\n",
       "      <td>Justice Department and State Coalition Restore...</td>\n",
       "      <td>Today, the Justice Department filed a proposed...</td>\n",
       "      <td>https://www.justice.gov//opa/pr/justice-depart...</td>\n",
       "      <td>2024-05-30</td>\n",
       "      <td>Justice Department and State Coalition Restore...</td>\n",
       "      <td>justice department state coalition restore com...</td>\n",
       "      <td>0</td>\n",
       "    </tr>\n",
       "    <tr>\n",
       "      <th>1</th>\n",
       "      <td>Final Texas Defendants Plead Guilty to Conspir...</td>\n",
       "      <td>A Texas man pleaded guilty on Friday to conspi...</td>\n",
       "      <td>https://www.justice.gov//opa/pr/final-texas-de...</td>\n",
       "      <td>2024-05-30</td>\n",
       "      <td>Final Texas Defendants Plead Guilty to Conspir...</td>\n",
       "      <td>final texas defendant plead guilty conspiracy ...</td>\n",
       "      <td>1</td>\n",
       "    </tr>\n",
       "    <tr>\n",
       "      <th>2</th>\n",
       "      <td>Former Investment Banker and Registered Broker...</td>\n",
       "      <td>A former investment banker, who was formerly a...</td>\n",
       "      <td>https://www.justice.gov//opa/pr/former-investm...</td>\n",
       "      <td>2024-05-30</td>\n",
       "      <td>Former Investment Banker and Registered Broker...</td>\n",
       "      <td>former investment banker register broker sente...</td>\n",
       "      <td>1</td>\n",
       "    </tr>\n",
       "  </tbody>\n",
       "</table>\n",
       "</div>"
      ],
      "text/plain": [
       "                                       article_title  \\\n",
       "0  Justice Department and State Coalition Restore...   \n",
       "1  Final Texas Defendants Plead Guilty to Conspir...   \n",
       "2  Former Investment Banker and Registered Broker...   \n",
       "\n",
       "                                     article_summary  \\\n",
       "0  Today, the Justice Department filed a proposed...   \n",
       "1  A Texas man pleaded guilty on Friday to conspi...   \n",
       "2  A former investment banker, who was formerly a...   \n",
       "\n",
       "                                         article_url date_published  \\\n",
       "0  https://www.justice.gov//opa/pr/justice-depart...     2024-05-30   \n",
       "1  https://www.justice.gov//opa/pr/final-texas-de...     2024-05-30   \n",
       "2  https://www.justice.gov//opa/pr/former-investm...     2024-05-30   \n",
       "\n",
       "                                       title_summary  \\\n",
       "0  Justice Department and State Coalition Restore...   \n",
       "1  Final Texas Defendants Plead Guilty to Conspir...   \n",
       "2  Former Investment Banker and Registered Broker...   \n",
       "\n",
       "                               cleaned_title_summary  label  \n",
       "0  justice department state coalition restore com...      0  \n",
       "1  final texas defendant plead guilty conspiracy ...      1  \n",
       "2  former investment banker register broker sente...      1  "
      ]
     },
     "execution_count": 39,
     "metadata": {},
     "output_type": "execute_result"
    }
   ],
   "source": [
    "# Drop label modifier column\n",
    "train_df.drop(columns=['modify_label'], inplace=True)\n",
    "train_df['label'] = train_df['label'].astype(int)\n",
    "\n",
    "train_df.head(3)"
   ]
  },
  {
   "cell_type": "markdown",
   "id": "5cae7cb2-217c-4570-af0d-0f0c22baf13e",
   "metadata": {},
   "source": [
    "### Training Data"
   ]
  },
  {
   "cell_type": "code",
   "execution_count": 24,
   "id": "51f3975c-de52-408c-bffd-4b14917e2e1c",
   "metadata": {},
   "outputs": [],
   "source": [
    "# # Export data to csv\n",
    "# data_file = 'data/doj_data.csv'\n",
    "\n",
    "# train_df.to_csv(data_file, index=False)\n",
    "\n",
    "# print('Done!')"
   ]
  },
  {
   "cell_type": "markdown",
   "id": "d9553ec8-59a9-445f-917e-e1acde56c024",
   "metadata": {},
   "source": [
    "### Inference Data"
   ]
  },
  {
   "cell_type": "code",
   "execution_count": 40,
   "id": "f211c60b-0ae7-43f7-88eb-c115334a2581",
   "metadata": {},
   "outputs": [
    {
     "name": "stdout",
     "output_type": "stream",
     "text": [
      "Done!\n"
     ]
    }
   ],
   "source": [
    "# Export data to csv\n",
    "train_df.to_csv(data_file, index=False)\n",
    "\n",
    "print('Done!')"
   ]
  },
  {
   "cell_type": "code",
   "execution_count": null,
   "id": "c06dbf23-aa68-442c-a91a-665b0aa99aa6",
   "metadata": {},
   "outputs": [],
   "source": []
  }
 ],
 "metadata": {
  "kernelspec": {
   "display_name": "fads",
   "language": "python",
   "name": "fads"
  },
  "language_info": {
   "codemirror_mode": {
    "name": "ipython",
    "version": 3
   },
   "file_extension": ".py",
   "mimetype": "text/x-python",
   "name": "python",
   "nbconvert_exporter": "python",
   "pygments_lexer": "ipython3",
   "version": "3.11.9"
  }
 },
 "nbformat": 4,
 "nbformat_minor": 5
}
